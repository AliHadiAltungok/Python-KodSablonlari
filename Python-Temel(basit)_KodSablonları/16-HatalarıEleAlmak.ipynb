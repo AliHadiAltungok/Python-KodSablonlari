{
 "cells": [
  {
   "cell_type": "code",
   "execution_count": 4,
   "metadata": {},
   "outputs": [
    {
     "name": "stdout",
     "output_type": "stream",
     "text": [
      "inlk sayıyı giriniz80\n",
      "ikini sayıyı giriniz20\n"
     ]
    },
    {
     "data": {
      "text/plain": [
       "100"
      ]
     },
     "execution_count": 4,
     "metadata": {},
     "output_type": "execute_result"
    }
   ],
   "source": [
    "def Toplama(num1,num2):\n",
    "    return num1+num2\n",
    "x=int(input(\"inlk sayıyı giriniz\"))\n",
    "y=int(input(\"ikini sayıyı giriniz\"))\n",
    "Toplama(x,y)"
   ]
  },
  {
   "cell_type": "markdown",
   "metadata": {},
   "source": [
    "## try & except & else & finally"
   ]
  },
  {
   "cell_type": "code",
   "execution_count": 4,
   "metadata": {},
   "outputs": [
    {
     "name": "stdout",
     "output_type": "stream",
     "text": [
      "Numarayı giriniz : sad\n",
      "Lütfen düzgün bir numara giriniz\n",
      "finallyyyyy\n",
      "Numarayı giriniz : sad\n",
      "Lütfen düzgün bir numara giriniz\n",
      "finallyyyyy\n",
      "Numarayı giriniz : 54\n",
      "Teşekkürler\n",
      "finallyyyyy\n"
     ]
    }
   ],
   "source": [
    "while True:\n",
    "    try:\n",
    "        myNumber=int(input(\"Numarayı giriniz : \"))\n",
    "    except:\n",
    "        print(\"Lütfen düzgün bir numara giriniz\")\n",
    "    else:\n",
    "        print(\"Teşekkürler\")\n",
    "        break\n",
    "    finally:\n",
    "        print(\"finallyyyyy\")"
   ]
  },
  {
   "cell_type": "code",
   "execution_count": null,
   "metadata": {},
   "outputs": [],
   "source": []
  },
  {
   "cell_type": "code",
   "execution_count": null,
   "metadata": {},
   "outputs": [],
   "source": []
  }
 ],
 "metadata": {
  "kernelspec": {
   "display_name": "Python 3",
   "language": "python",
   "name": "python3"
  },
  "language_info": {
   "codemirror_mode": {
    "name": "ipython",
    "version": 3
   },
   "file_extension": ".py",
   "mimetype": "text/x-python",
   "name": "python",
   "nbconvert_exporter": "python",
   "pygments_lexer": "ipython3",
   "version": "3.8.3"
  }
 },
 "nbformat": 4,
 "nbformat_minor": 4
}
