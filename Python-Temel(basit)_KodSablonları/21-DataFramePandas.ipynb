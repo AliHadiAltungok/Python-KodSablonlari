{
 "cells": [
  {
   "cell_type": "markdown",
   "metadata": {},
   "source": [
    "## DataFramePandas"
   ]
  },
  {
   "cell_type": "code",
   "execution_count": 135,
   "metadata": {},
   "outputs": [],
   "source": [
    "import numpy as np\n",
    "import pandas as pd"
   ]
  },
  {
   "cell_type": "code",
   "execution_count": 136,
   "metadata": {},
   "outputs": [],
   "source": [
    "data=np.random.randn(4,3)"
   ]
  },
  {
   "cell_type": "code",
   "execution_count": 137,
   "metadata": {},
   "outputs": [
    {
     "data": {
      "text/plain": [
       "array([[-2.04580005,  1.14446796, -0.33238217],\n",
       "       [ 0.90431958,  0.35938353, -1.0270166 ],\n",
       "       [-0.47910505, -0.98883697,  0.14761721],\n",
       "       [-0.92542264, -0.77723642, -0.73324939]])"
      ]
     },
     "execution_count": 137,
     "metadata": {},
     "output_type": "execute_result"
    }
   ],
   "source": [
    "data"
   ]
  },
  {
   "cell_type": "code",
   "execution_count": 138,
   "metadata": {},
   "outputs": [],
   "source": [
    "yeniDataFrame=pd.DataFrame(data)"
   ]
  },
  {
   "cell_type": "code",
   "execution_count": 139,
   "metadata": {},
   "outputs": [
    {
     "data": {
      "text/html": [
       "<div>\n",
       "<style scoped>\n",
       "    .dataframe tbody tr th:only-of-type {\n",
       "        vertical-align: middle;\n",
       "    }\n",
       "\n",
       "    .dataframe tbody tr th {\n",
       "        vertical-align: top;\n",
       "    }\n",
       "\n",
       "    .dataframe thead th {\n",
       "        text-align: right;\n",
       "    }\n",
       "</style>\n",
       "<table border=\"1\" class=\"dataframe\">\n",
       "  <thead>\n",
       "    <tr style=\"text-align: right;\">\n",
       "      <th></th>\n",
       "      <th>0</th>\n",
       "      <th>1</th>\n",
       "      <th>2</th>\n",
       "    </tr>\n",
       "  </thead>\n",
       "  <tbody>\n",
       "    <tr>\n",
       "      <th>0</th>\n",
       "      <td>-2.045800</td>\n",
       "      <td>1.144468</td>\n",
       "      <td>-0.332382</td>\n",
       "    </tr>\n",
       "    <tr>\n",
       "      <th>1</th>\n",
       "      <td>0.904320</td>\n",
       "      <td>0.359384</td>\n",
       "      <td>-1.027017</td>\n",
       "    </tr>\n",
       "    <tr>\n",
       "      <th>2</th>\n",
       "      <td>-0.479105</td>\n",
       "      <td>-0.988837</td>\n",
       "      <td>0.147617</td>\n",
       "    </tr>\n",
       "    <tr>\n",
       "      <th>3</th>\n",
       "      <td>-0.925423</td>\n",
       "      <td>-0.777236</td>\n",
       "      <td>-0.733249</td>\n",
       "    </tr>\n",
       "  </tbody>\n",
       "</table>\n",
       "</div>"
      ],
      "text/plain": [
       "          0         1         2\n",
       "0 -2.045800  1.144468 -0.332382\n",
       "1  0.904320  0.359384 -1.027017\n",
       "2 -0.479105 -0.988837  0.147617\n",
       "3 -0.925423 -0.777236 -0.733249"
      ]
     },
     "execution_count": 139,
     "metadata": {},
     "output_type": "execute_result"
    }
   ],
   "source": [
    "yeniDataFrame"
   ]
  },
  {
   "cell_type": "code",
   "execution_count": 140,
   "metadata": {},
   "outputs": [],
   "source": [
    "yeniDataFrame2=pd.DataFrame(data,index=[\"Ali\",\"Hadi\",\"Elif\",\"Gamze\"],columns=[\"maas\",\"yas\",\"calısma saati\"])"
   ]
  },
  {
   "cell_type": "code",
   "execution_count": 141,
   "metadata": {},
   "outputs": [
    {
     "data": {
      "text/html": [
       "<div>\n",
       "<style scoped>\n",
       "    .dataframe tbody tr th:only-of-type {\n",
       "        vertical-align: middle;\n",
       "    }\n",
       "\n",
       "    .dataframe tbody tr th {\n",
       "        vertical-align: top;\n",
       "    }\n",
       "\n",
       "    .dataframe thead th {\n",
       "        text-align: right;\n",
       "    }\n",
       "</style>\n",
       "<table border=\"1\" class=\"dataframe\">\n",
       "  <thead>\n",
       "    <tr style=\"text-align: right;\">\n",
       "      <th></th>\n",
       "      <th>maas</th>\n",
       "      <th>yas</th>\n",
       "      <th>calısma saati</th>\n",
       "    </tr>\n",
       "  </thead>\n",
       "  <tbody>\n",
       "    <tr>\n",
       "      <th>Ali</th>\n",
       "      <td>-2.045800</td>\n",
       "      <td>1.144468</td>\n",
       "      <td>-0.332382</td>\n",
       "    </tr>\n",
       "    <tr>\n",
       "      <th>Hadi</th>\n",
       "      <td>0.904320</td>\n",
       "      <td>0.359384</td>\n",
       "      <td>-1.027017</td>\n",
       "    </tr>\n",
       "    <tr>\n",
       "      <th>Elif</th>\n",
       "      <td>-0.479105</td>\n",
       "      <td>-0.988837</td>\n",
       "      <td>0.147617</td>\n",
       "    </tr>\n",
       "    <tr>\n",
       "      <th>Gamze</th>\n",
       "      <td>-0.925423</td>\n",
       "      <td>-0.777236</td>\n",
       "      <td>-0.733249</td>\n",
       "    </tr>\n",
       "  </tbody>\n",
       "</table>\n",
       "</div>"
      ],
      "text/plain": [
       "           maas       yas  calısma saati\n",
       "Ali   -2.045800  1.144468      -0.332382\n",
       "Hadi   0.904320  0.359384      -1.027017\n",
       "Elif  -0.479105 -0.988837       0.147617\n",
       "Gamze -0.925423 -0.777236      -0.733249"
      ]
     },
     "execution_count": 141,
     "metadata": {},
     "output_type": "execute_result"
    }
   ],
   "source": [
    "yeniDataFrame2"
   ]
  },
  {
   "cell_type": "code",
   "execution_count": null,
   "metadata": {},
   "outputs": [],
   "source": []
  },
  {
   "cell_type": "code",
   "execution_count": 142,
   "metadata": {},
   "outputs": [
    {
     "data": {
      "text/plain": [
       "Ali     -2.045800\n",
       "Hadi     0.904320\n",
       "Elif    -0.479105\n",
       "Gamze   -0.925423\n",
       "Name: maas, dtype: float64"
      ]
     },
     "execution_count": 142,
     "metadata": {},
     "output_type": "execute_result"
    }
   ],
   "source": [
    "yeniDataFrame2[\"maas\"]"
   ]
  },
  {
   "cell_type": "code",
   "execution_count": 143,
   "metadata": {},
   "outputs": [
    {
     "data": {
      "text/html": [
       "<div>\n",
       "<style scoped>\n",
       "    .dataframe tbody tr th:only-of-type {\n",
       "        vertical-align: middle;\n",
       "    }\n",
       "\n",
       "    .dataframe tbody tr th {\n",
       "        vertical-align: top;\n",
       "    }\n",
       "\n",
       "    .dataframe thead th {\n",
       "        text-align: right;\n",
       "    }\n",
       "</style>\n",
       "<table border=\"1\" class=\"dataframe\">\n",
       "  <thead>\n",
       "    <tr style=\"text-align: right;\">\n",
       "      <th></th>\n",
       "      <th>maas</th>\n",
       "      <th>calısma saati</th>\n",
       "    </tr>\n",
       "  </thead>\n",
       "  <tbody>\n",
       "    <tr>\n",
       "      <th>Ali</th>\n",
       "      <td>-2.045800</td>\n",
       "      <td>-0.332382</td>\n",
       "    </tr>\n",
       "    <tr>\n",
       "      <th>Hadi</th>\n",
       "      <td>0.904320</td>\n",
       "      <td>-1.027017</td>\n",
       "    </tr>\n",
       "    <tr>\n",
       "      <th>Elif</th>\n",
       "      <td>-0.479105</td>\n",
       "      <td>0.147617</td>\n",
       "    </tr>\n",
       "    <tr>\n",
       "      <th>Gamze</th>\n",
       "      <td>-0.925423</td>\n",
       "      <td>-0.733249</td>\n",
       "    </tr>\n",
       "  </tbody>\n",
       "</table>\n",
       "</div>"
      ],
      "text/plain": [
       "           maas  calısma saati\n",
       "Ali   -2.045800      -0.332382\n",
       "Hadi   0.904320      -1.027017\n",
       "Elif  -0.479105       0.147617\n",
       "Gamze -0.925423      -0.733249"
      ]
     },
     "execution_count": 143,
     "metadata": {},
     "output_type": "execute_result"
    }
   ],
   "source": [
    "yeniDataFrame2[[\"maas\",\"calısma saati\"]]"
   ]
  },
  {
   "cell_type": "code",
   "execution_count": 144,
   "metadata": {},
   "outputs": [
    {
     "data": {
      "text/plain": [
       "maas            -2.045800\n",
       "yas              1.144468\n",
       "calısma saati   -0.332382\n",
       "Name: Ali, dtype: float64"
      ]
     },
     "execution_count": 144,
     "metadata": {},
     "output_type": "execute_result"
    }
   ],
   "source": [
    "yeniDataFrame2.loc[\"Ali\"]"
   ]
  },
  {
   "cell_type": "code",
   "execution_count": 145,
   "metadata": {},
   "outputs": [
    {
     "data": {
      "text/plain": [
       "maas            -0.925423\n",
       "yas             -0.777236\n",
       "calısma saati   -0.733249\n",
       "Name: Gamze, dtype: float64"
      ]
     },
     "execution_count": 145,
     "metadata": {},
     "output_type": "execute_result"
    }
   ],
   "source": [
    "yeniDataFrame2.loc[\"Gamze\"]"
   ]
  },
  {
   "cell_type": "code",
   "execution_count": 146,
   "metadata": {},
   "outputs": [
    {
     "data": {
      "text/plain": [
       "maas            -2.045800\n",
       "yas              1.144468\n",
       "calısma saati   -0.332382\n",
       "Name: Ali, dtype: float64"
      ]
     },
     "execution_count": 146,
     "metadata": {},
     "output_type": "execute_result"
    }
   ],
   "source": [
    "yeniDataFrame2.iloc[0]"
   ]
  },
  {
   "cell_type": "code",
   "execution_count": 147,
   "metadata": {},
   "outputs": [
    {
     "data": {
      "text/plain": [
       "maas            -0.925423\n",
       "yas             -0.777236\n",
       "calısma saati   -0.733249\n",
       "Name: Gamze, dtype: float64"
      ]
     },
     "execution_count": 147,
     "metadata": {},
     "output_type": "execute_result"
    }
   ],
   "source": [
    "yeniDataFrame2.iloc[3]"
   ]
  },
  {
   "cell_type": "code",
   "execution_count": 148,
   "metadata": {},
   "outputs": [
    {
     "data": {
      "text/html": [
       "<div>\n",
       "<style scoped>\n",
       "    .dataframe tbody tr th:only-of-type {\n",
       "        vertical-align: middle;\n",
       "    }\n",
       "\n",
       "    .dataframe tbody tr th {\n",
       "        vertical-align: top;\n",
       "    }\n",
       "\n",
       "    .dataframe thead th {\n",
       "        text-align: right;\n",
       "    }\n",
       "</style>\n",
       "<table border=\"1\" class=\"dataframe\">\n",
       "  <thead>\n",
       "    <tr style=\"text-align: right;\">\n",
       "      <th></th>\n",
       "      <th>maas</th>\n",
       "      <th>yas</th>\n",
       "      <th>calısma saati</th>\n",
       "    </tr>\n",
       "  </thead>\n",
       "  <tbody>\n",
       "    <tr>\n",
       "      <th>Ali</th>\n",
       "      <td>-2.045800</td>\n",
       "      <td>1.144468</td>\n",
       "      <td>-0.332382</td>\n",
       "    </tr>\n",
       "    <tr>\n",
       "      <th>Hadi</th>\n",
       "      <td>0.904320</td>\n",
       "      <td>0.359384</td>\n",
       "      <td>-1.027017</td>\n",
       "    </tr>\n",
       "    <tr>\n",
       "      <th>Elif</th>\n",
       "      <td>-0.479105</td>\n",
       "      <td>-0.988837</td>\n",
       "      <td>0.147617</td>\n",
       "    </tr>\n",
       "    <tr>\n",
       "      <th>Gamze</th>\n",
       "      <td>-0.925423</td>\n",
       "      <td>-0.777236</td>\n",
       "      <td>-0.733249</td>\n",
       "    </tr>\n",
       "  </tbody>\n",
       "</table>\n",
       "</div>"
      ],
      "text/plain": [
       "           maas       yas  calısma saati\n",
       "Ali   -2.045800  1.144468      -0.332382\n",
       "Hadi   0.904320  0.359384      -1.027017\n",
       "Elif  -0.479105 -0.988837       0.147617\n",
       "Gamze -0.925423 -0.777236      -0.733249"
      ]
     },
     "execution_count": 148,
     "metadata": {},
     "output_type": "execute_result"
    }
   ],
   "source": [
    "yeniDataFrame2"
   ]
  },
  {
   "cell_type": "code",
   "execution_count": 149,
   "metadata": {},
   "outputs": [],
   "source": [
    "yeniDataFrame2[\"Emeklilik yasi\"]= yeniDataFrame2[\"yas\"]*2"
   ]
  },
  {
   "cell_type": "code",
   "execution_count": 150,
   "metadata": {},
   "outputs": [
    {
     "data": {
      "text/html": [
       "<div>\n",
       "<style scoped>\n",
       "    .dataframe tbody tr th:only-of-type {\n",
       "        vertical-align: middle;\n",
       "    }\n",
       "\n",
       "    .dataframe tbody tr th {\n",
       "        vertical-align: top;\n",
       "    }\n",
       "\n",
       "    .dataframe thead th {\n",
       "        text-align: right;\n",
       "    }\n",
       "</style>\n",
       "<table border=\"1\" class=\"dataframe\">\n",
       "  <thead>\n",
       "    <tr style=\"text-align: right;\">\n",
       "      <th></th>\n",
       "      <th>maas</th>\n",
       "      <th>yas</th>\n",
       "      <th>calısma saati</th>\n",
       "      <th>Emeklilik yasi</th>\n",
       "    </tr>\n",
       "  </thead>\n",
       "  <tbody>\n",
       "    <tr>\n",
       "      <th>Ali</th>\n",
       "      <td>-2.045800</td>\n",
       "      <td>1.144468</td>\n",
       "      <td>-0.332382</td>\n",
       "      <td>2.288936</td>\n",
       "    </tr>\n",
       "    <tr>\n",
       "      <th>Hadi</th>\n",
       "      <td>0.904320</td>\n",
       "      <td>0.359384</td>\n",
       "      <td>-1.027017</td>\n",
       "      <td>0.718767</td>\n",
       "    </tr>\n",
       "    <tr>\n",
       "      <th>Elif</th>\n",
       "      <td>-0.479105</td>\n",
       "      <td>-0.988837</td>\n",
       "      <td>0.147617</td>\n",
       "      <td>-1.977674</td>\n",
       "    </tr>\n",
       "    <tr>\n",
       "      <th>Gamze</th>\n",
       "      <td>-0.925423</td>\n",
       "      <td>-0.777236</td>\n",
       "      <td>-0.733249</td>\n",
       "      <td>-1.554473</td>\n",
       "    </tr>\n",
       "  </tbody>\n",
       "</table>\n",
       "</div>"
      ],
      "text/plain": [
       "           maas       yas  calısma saati  Emeklilik yasi\n",
       "Ali   -2.045800  1.144468      -0.332382        2.288936\n",
       "Hadi   0.904320  0.359384      -1.027017        0.718767\n",
       "Elif  -0.479105 -0.988837       0.147617       -1.977674\n",
       "Gamze -0.925423 -0.777236      -0.733249       -1.554473"
      ]
     },
     "execution_count": 150,
     "metadata": {},
     "output_type": "execute_result"
    }
   ],
   "source": [
    "yeniDataFrame2"
   ]
  },
  {
   "cell_type": "code",
   "execution_count": 151,
   "metadata": {},
   "outputs": [
    {
     "data": {
      "text/html": [
       "<div>\n",
       "<style scoped>\n",
       "    .dataframe tbody tr th:only-of-type {\n",
       "        vertical-align: middle;\n",
       "    }\n",
       "\n",
       "    .dataframe tbody tr th {\n",
       "        vertical-align: top;\n",
       "    }\n",
       "\n",
       "    .dataframe thead th {\n",
       "        text-align: right;\n",
       "    }\n",
       "</style>\n",
       "<table border=\"1\" class=\"dataframe\">\n",
       "  <thead>\n",
       "    <tr style=\"text-align: right;\">\n",
       "      <th></th>\n",
       "      <th>maas</th>\n",
       "      <th>yas</th>\n",
       "      <th>calısma saati</th>\n",
       "      <th>Emeklilik yasi</th>\n",
       "    </tr>\n",
       "  </thead>\n",
       "  <tbody>\n",
       "    <tr>\n",
       "      <th>Ali</th>\n",
       "      <td>-2.045800</td>\n",
       "      <td>1.144468</td>\n",
       "      <td>-0.332382</td>\n",
       "      <td>2.288936</td>\n",
       "    </tr>\n",
       "    <tr>\n",
       "      <th>Hadi</th>\n",
       "      <td>0.904320</td>\n",
       "      <td>0.359384</td>\n",
       "      <td>-1.027017</td>\n",
       "      <td>0.718767</td>\n",
       "    </tr>\n",
       "    <tr>\n",
       "      <th>Elif</th>\n",
       "      <td>-0.479105</td>\n",
       "      <td>-0.988837</td>\n",
       "      <td>0.147617</td>\n",
       "      <td>-1.977674</td>\n",
       "    </tr>\n",
       "    <tr>\n",
       "      <th>Gamze</th>\n",
       "      <td>-0.925423</td>\n",
       "      <td>-0.777236</td>\n",
       "      <td>-0.733249</td>\n",
       "      <td>-1.554473</td>\n",
       "    </tr>\n",
       "  </tbody>\n",
       "</table>\n",
       "</div>"
      ],
      "text/plain": [
       "           maas       yas  calısma saati  Emeklilik yasi\n",
       "Ali   -2.045800  1.144468      -0.332382        2.288936\n",
       "Hadi   0.904320  0.359384      -1.027017        0.718767\n",
       "Elif  -0.479105 -0.988837       0.147617       -1.977674\n",
       "Gamze -0.925423 -0.777236      -0.733249       -1.554473"
      ]
     },
     "execution_count": 151,
     "metadata": {},
     "output_type": "execute_result"
    }
   ],
   "source": [
    "yeniDataFrame2"
   ]
  },
  {
   "cell_type": "code",
   "execution_count": 152,
   "metadata": {},
   "outputs": [
    {
     "data": {
      "text/html": [
       "<div>\n",
       "<style scoped>\n",
       "    .dataframe tbody tr th:only-of-type {\n",
       "        vertical-align: middle;\n",
       "    }\n",
       "\n",
       "    .dataframe tbody tr th {\n",
       "        vertical-align: top;\n",
       "    }\n",
       "\n",
       "    .dataframe thead th {\n",
       "        text-align: right;\n",
       "    }\n",
       "</style>\n",
       "<table border=\"1\" class=\"dataframe\">\n",
       "  <thead>\n",
       "    <tr style=\"text-align: right;\">\n",
       "      <th></th>\n",
       "      <th>maas</th>\n",
       "      <th>yas</th>\n",
       "      <th>calısma saati</th>\n",
       "    </tr>\n",
       "  </thead>\n",
       "  <tbody>\n",
       "    <tr>\n",
       "      <th>Ali</th>\n",
       "      <td>-2.045800</td>\n",
       "      <td>1.144468</td>\n",
       "      <td>-0.332382</td>\n",
       "    </tr>\n",
       "    <tr>\n",
       "      <th>Hadi</th>\n",
       "      <td>0.904320</td>\n",
       "      <td>0.359384</td>\n",
       "      <td>-1.027017</td>\n",
       "    </tr>\n",
       "    <tr>\n",
       "      <th>Elif</th>\n",
       "      <td>-0.479105</td>\n",
       "      <td>-0.988837</td>\n",
       "      <td>0.147617</td>\n",
       "    </tr>\n",
       "    <tr>\n",
       "      <th>Gamze</th>\n",
       "      <td>-0.925423</td>\n",
       "      <td>-0.777236</td>\n",
       "      <td>-0.733249</td>\n",
       "    </tr>\n",
       "  </tbody>\n",
       "</table>\n",
       "</div>"
      ],
      "text/plain": [
       "           maas       yas  calısma saati\n",
       "Ali   -2.045800  1.144468      -0.332382\n",
       "Hadi   0.904320  0.359384      -1.027017\n",
       "Elif  -0.479105 -0.988837       0.147617\n",
       "Gamze -0.925423 -0.777236      -0.733249"
      ]
     },
     "execution_count": 152,
     "metadata": {},
     "output_type": "execute_result"
    }
   ],
   "source": [
    "yeniDataFrame2.drop(\"Emeklilik yasi\",axis=1)"
   ]
  },
  {
   "cell_type": "code",
   "execution_count": 153,
   "metadata": {},
   "outputs": [
    {
     "data": {
      "text/html": [
       "<div>\n",
       "<style scoped>\n",
       "    .dataframe tbody tr th:only-of-type {\n",
       "        vertical-align: middle;\n",
       "    }\n",
       "\n",
       "    .dataframe tbody tr th {\n",
       "        vertical-align: top;\n",
       "    }\n",
       "\n",
       "    .dataframe thead th {\n",
       "        text-align: right;\n",
       "    }\n",
       "</style>\n",
       "<table border=\"1\" class=\"dataframe\">\n",
       "  <thead>\n",
       "    <tr style=\"text-align: right;\">\n",
       "      <th></th>\n",
       "      <th>maas</th>\n",
       "      <th>yas</th>\n",
       "      <th>calısma saati</th>\n",
       "      <th>Emeklilik yasi</th>\n",
       "    </tr>\n",
       "  </thead>\n",
       "  <tbody>\n",
       "    <tr>\n",
       "      <th>Ali</th>\n",
       "      <td>-2.045800</td>\n",
       "      <td>1.144468</td>\n",
       "      <td>-0.332382</td>\n",
       "      <td>2.288936</td>\n",
       "    </tr>\n",
       "    <tr>\n",
       "      <th>Elif</th>\n",
       "      <td>-0.479105</td>\n",
       "      <td>-0.988837</td>\n",
       "      <td>0.147617</td>\n",
       "      <td>-1.977674</td>\n",
       "    </tr>\n",
       "    <tr>\n",
       "      <th>Gamze</th>\n",
       "      <td>-0.925423</td>\n",
       "      <td>-0.777236</td>\n",
       "      <td>-0.733249</td>\n",
       "      <td>-1.554473</td>\n",
       "    </tr>\n",
       "  </tbody>\n",
       "</table>\n",
       "</div>"
      ],
      "text/plain": [
       "           maas       yas  calısma saati  Emeklilik yasi\n",
       "Ali   -2.045800  1.144468      -0.332382        2.288936\n",
       "Elif  -0.479105 -0.988837       0.147617       -1.977674\n",
       "Gamze -0.925423 -0.777236      -0.733249       -1.554473"
      ]
     },
     "execution_count": 153,
     "metadata": {},
     "output_type": "execute_result"
    }
   ],
   "source": [
    "yeniDataFrame2.drop(\"Hadi\",axis=0)"
   ]
  },
  {
   "cell_type": "code",
   "execution_count": 154,
   "metadata": {},
   "outputs": [
    {
     "data": {
      "text/html": [
       "<div>\n",
       "<style scoped>\n",
       "    .dataframe tbody tr th:only-of-type {\n",
       "        vertical-align: middle;\n",
       "    }\n",
       "\n",
       "    .dataframe tbody tr th {\n",
       "        vertical-align: top;\n",
       "    }\n",
       "\n",
       "    .dataframe thead th {\n",
       "        text-align: right;\n",
       "    }\n",
       "</style>\n",
       "<table border=\"1\" class=\"dataframe\">\n",
       "  <thead>\n",
       "    <tr style=\"text-align: right;\">\n",
       "      <th></th>\n",
       "      <th>maas</th>\n",
       "      <th>yas</th>\n",
       "      <th>calısma saati</th>\n",
       "    </tr>\n",
       "  </thead>\n",
       "  <tbody>\n",
       "    <tr>\n",
       "      <th>Ali</th>\n",
       "      <td>-2.045800</td>\n",
       "      <td>1.144468</td>\n",
       "      <td>-0.332382</td>\n",
       "    </tr>\n",
       "    <tr>\n",
       "      <th>Hadi</th>\n",
       "      <td>0.904320</td>\n",
       "      <td>0.359384</td>\n",
       "      <td>-1.027017</td>\n",
       "    </tr>\n",
       "    <tr>\n",
       "      <th>Elif</th>\n",
       "      <td>-0.479105</td>\n",
       "      <td>-0.988837</td>\n",
       "      <td>0.147617</td>\n",
       "    </tr>\n",
       "    <tr>\n",
       "      <th>Gamze</th>\n",
       "      <td>-0.925423</td>\n",
       "      <td>-0.777236</td>\n",
       "      <td>-0.733249</td>\n",
       "    </tr>\n",
       "  </tbody>\n",
       "</table>\n",
       "</div>"
      ],
      "text/plain": [
       "           maas       yas  calısma saati\n",
       "Ali   -2.045800  1.144468      -0.332382\n",
       "Hadi   0.904320  0.359384      -1.027017\n",
       "Elif  -0.479105 -0.988837       0.147617\n",
       "Gamze -0.925423 -0.777236      -0.733249"
      ]
     },
     "execution_count": 154,
     "metadata": {},
     "output_type": "execute_result"
    }
   ],
   "source": [
    "yeniDataFrame2.drop(\"Emeklilik yasi\",axis=1,inplace=False) #### inplace True olunca direk siliyor false diyince silinmiş halinin kopyasını gösterir yada o kopyayı başka bir tablo olarak kaydedersin"
   ]
  },
  {
   "cell_type": "code",
   "execution_count": 155,
   "metadata": {},
   "outputs": [
    {
     "data": {
      "text/html": [
       "<div>\n",
       "<style scoped>\n",
       "    .dataframe tbody tr th:only-of-type {\n",
       "        vertical-align: middle;\n",
       "    }\n",
       "\n",
       "    .dataframe tbody tr th {\n",
       "        vertical-align: top;\n",
       "    }\n",
       "\n",
       "    .dataframe thead th {\n",
       "        text-align: right;\n",
       "    }\n",
       "</style>\n",
       "<table border=\"1\" class=\"dataframe\">\n",
       "  <thead>\n",
       "    <tr style=\"text-align: right;\">\n",
       "      <th></th>\n",
       "      <th>maas</th>\n",
       "      <th>yas</th>\n",
       "      <th>calısma saati</th>\n",
       "      <th>Emeklilik yasi</th>\n",
       "    </tr>\n",
       "  </thead>\n",
       "  <tbody>\n",
       "    <tr>\n",
       "      <th>Ali</th>\n",
       "      <td>-2.045800</td>\n",
       "      <td>1.144468</td>\n",
       "      <td>-0.332382</td>\n",
       "      <td>2.288936</td>\n",
       "    </tr>\n",
       "    <tr>\n",
       "      <th>Hadi</th>\n",
       "      <td>0.904320</td>\n",
       "      <td>0.359384</td>\n",
       "      <td>-1.027017</td>\n",
       "      <td>0.718767</td>\n",
       "    </tr>\n",
       "    <tr>\n",
       "      <th>Elif</th>\n",
       "      <td>-0.479105</td>\n",
       "      <td>-0.988837</td>\n",
       "      <td>0.147617</td>\n",
       "      <td>-1.977674</td>\n",
       "    </tr>\n",
       "    <tr>\n",
       "      <th>Gamze</th>\n",
       "      <td>-0.925423</td>\n",
       "      <td>-0.777236</td>\n",
       "      <td>-0.733249</td>\n",
       "      <td>-1.554473</td>\n",
       "    </tr>\n",
       "  </tbody>\n",
       "</table>\n",
       "</div>"
      ],
      "text/plain": [
       "           maas       yas  calısma saati  Emeklilik yasi\n",
       "Ali   -2.045800  1.144468      -0.332382        2.288936\n",
       "Hadi   0.904320  0.359384      -1.027017        0.718767\n",
       "Elif  -0.479105 -0.988837       0.147617       -1.977674\n",
       "Gamze -0.925423 -0.777236      -0.733249       -1.554473"
      ]
     },
     "execution_count": 155,
     "metadata": {},
     "output_type": "execute_result"
    }
   ],
   "source": [
    "yeniDataFrame2"
   ]
  },
  {
   "cell_type": "code",
   "execution_count": 156,
   "metadata": {},
   "outputs": [],
   "source": [
    "yeniDataFrame2.drop(\"Emeklilik yasi\",axis=1,inplace=True)"
   ]
  },
  {
   "cell_type": "code",
   "execution_count": 157,
   "metadata": {},
   "outputs": [
    {
     "data": {
      "text/html": [
       "<div>\n",
       "<style scoped>\n",
       "    .dataframe tbody tr th:only-of-type {\n",
       "        vertical-align: middle;\n",
       "    }\n",
       "\n",
       "    .dataframe tbody tr th {\n",
       "        vertical-align: top;\n",
       "    }\n",
       "\n",
       "    .dataframe thead th {\n",
       "        text-align: right;\n",
       "    }\n",
       "</style>\n",
       "<table border=\"1\" class=\"dataframe\">\n",
       "  <thead>\n",
       "    <tr style=\"text-align: right;\">\n",
       "      <th></th>\n",
       "      <th>maas</th>\n",
       "      <th>yas</th>\n",
       "      <th>calısma saati</th>\n",
       "    </tr>\n",
       "  </thead>\n",
       "  <tbody>\n",
       "    <tr>\n",
       "      <th>Ali</th>\n",
       "      <td>-2.045800</td>\n",
       "      <td>1.144468</td>\n",
       "      <td>-0.332382</td>\n",
       "    </tr>\n",
       "    <tr>\n",
       "      <th>Hadi</th>\n",
       "      <td>0.904320</td>\n",
       "      <td>0.359384</td>\n",
       "      <td>-1.027017</td>\n",
       "    </tr>\n",
       "    <tr>\n",
       "      <th>Elif</th>\n",
       "      <td>-0.479105</td>\n",
       "      <td>-0.988837</td>\n",
       "      <td>0.147617</td>\n",
       "    </tr>\n",
       "    <tr>\n",
       "      <th>Gamze</th>\n",
       "      <td>-0.925423</td>\n",
       "      <td>-0.777236</td>\n",
       "      <td>-0.733249</td>\n",
       "    </tr>\n",
       "  </tbody>\n",
       "</table>\n",
       "</div>"
      ],
      "text/plain": [
       "           maas       yas  calısma saati\n",
       "Ali   -2.045800  1.144468      -0.332382\n",
       "Hadi   0.904320  0.359384      -1.027017\n",
       "Elif  -0.479105 -0.988837       0.147617\n",
       "Gamze -0.925423 -0.777236      -0.733249"
      ]
     },
     "execution_count": 157,
     "metadata": {},
     "output_type": "execute_result"
    }
   ],
   "source": [
    "yeniDataFrame2"
   ]
  },
  {
   "cell_type": "code",
   "execution_count": 158,
   "metadata": {},
   "outputs": [
    {
     "data": {
      "text/plain": [
       "1.1444679579462618"
      ]
     },
     "execution_count": 158,
     "metadata": {},
     "output_type": "execute_result"
    }
   ],
   "source": [
    "yeniDataFrame2.loc[\"Ali\"][\"yas\"]"
   ]
  },
  {
   "cell_type": "code",
   "execution_count": 159,
   "metadata": {},
   "outputs": [
    {
     "data": {
      "text/plain": [
       "-0.9888369730612709"
      ]
     },
     "execution_count": 159,
     "metadata": {},
     "output_type": "execute_result"
    }
   ],
   "source": [
    "yeniDataFrame2.loc[\"Elif\",\"yas\"]"
   ]
  },
  {
   "cell_type": "code",
   "execution_count": 160,
   "metadata": {},
   "outputs": [
    {
     "data": {
      "text/html": [
       "<div>\n",
       "<style scoped>\n",
       "    .dataframe tbody tr th:only-of-type {\n",
       "        vertical-align: middle;\n",
       "    }\n",
       "\n",
       "    .dataframe tbody tr th {\n",
       "        vertical-align: top;\n",
       "    }\n",
       "\n",
       "    .dataframe thead th {\n",
       "        text-align: right;\n",
       "    }\n",
       "</style>\n",
       "<table border=\"1\" class=\"dataframe\">\n",
       "  <thead>\n",
       "    <tr style=\"text-align: right;\">\n",
       "      <th></th>\n",
       "      <th>maas</th>\n",
       "      <th>yas</th>\n",
       "      <th>calısma saati</th>\n",
       "    </tr>\n",
       "  </thead>\n",
       "  <tbody>\n",
       "    <tr>\n",
       "      <th>Ali</th>\n",
       "      <td>True</td>\n",
       "      <td>False</td>\n",
       "      <td>True</td>\n",
       "    </tr>\n",
       "    <tr>\n",
       "      <th>Hadi</th>\n",
       "      <td>False</td>\n",
       "      <td>False</td>\n",
       "      <td>True</td>\n",
       "    </tr>\n",
       "    <tr>\n",
       "      <th>Elif</th>\n",
       "      <td>True</td>\n",
       "      <td>True</td>\n",
       "      <td>False</td>\n",
       "    </tr>\n",
       "    <tr>\n",
       "      <th>Gamze</th>\n",
       "      <td>True</td>\n",
       "      <td>True</td>\n",
       "      <td>True</td>\n",
       "    </tr>\n",
       "  </tbody>\n",
       "</table>\n",
       "</div>"
      ],
      "text/plain": [
       "        maas    yas  calısma saati\n",
       "Ali     True  False           True\n",
       "Hadi   False  False           True\n",
       "Elif    True   True          False\n",
       "Gamze   True   True           True"
      ]
     },
     "execution_count": 160,
     "metadata": {},
     "output_type": "execute_result"
    }
   ],
   "source": [
    "yeniDataFrame2<0"
   ]
  },
  {
   "cell_type": "code",
   "execution_count": 161,
   "metadata": {},
   "outputs": [],
   "source": [
    "booleanFrame=yeniDataFrame2<0"
   ]
  },
  {
   "cell_type": "code",
   "execution_count": 162,
   "metadata": {},
   "outputs": [
    {
     "data": {
      "text/html": [
       "<div>\n",
       "<style scoped>\n",
       "    .dataframe tbody tr th:only-of-type {\n",
       "        vertical-align: middle;\n",
       "    }\n",
       "\n",
       "    .dataframe tbody tr th {\n",
       "        vertical-align: top;\n",
       "    }\n",
       "\n",
       "    .dataframe thead th {\n",
       "        text-align: right;\n",
       "    }\n",
       "</style>\n",
       "<table border=\"1\" class=\"dataframe\">\n",
       "  <thead>\n",
       "    <tr style=\"text-align: right;\">\n",
       "      <th></th>\n",
       "      <th>maas</th>\n",
       "      <th>yas</th>\n",
       "      <th>calısma saati</th>\n",
       "    </tr>\n",
       "  </thead>\n",
       "  <tbody>\n",
       "    <tr>\n",
       "      <th>Ali</th>\n",
       "      <td>True</td>\n",
       "      <td>False</td>\n",
       "      <td>True</td>\n",
       "    </tr>\n",
       "    <tr>\n",
       "      <th>Hadi</th>\n",
       "      <td>False</td>\n",
       "      <td>False</td>\n",
       "      <td>True</td>\n",
       "    </tr>\n",
       "    <tr>\n",
       "      <th>Elif</th>\n",
       "      <td>True</td>\n",
       "      <td>True</td>\n",
       "      <td>False</td>\n",
       "    </tr>\n",
       "    <tr>\n",
       "      <th>Gamze</th>\n",
       "      <td>True</td>\n",
       "      <td>True</td>\n",
       "      <td>True</td>\n",
       "    </tr>\n",
       "  </tbody>\n",
       "</table>\n",
       "</div>"
      ],
      "text/plain": [
       "        maas    yas  calısma saati\n",
       "Ali     True  False           True\n",
       "Hadi   False  False           True\n",
       "Elif    True   True          False\n",
       "Gamze   True   True           True"
      ]
     },
     "execution_count": 162,
     "metadata": {},
     "output_type": "execute_result"
    }
   ],
   "source": [
    "booleanFrame"
   ]
  },
  {
   "cell_type": "code",
   "execution_count": 163,
   "metadata": {},
   "outputs": [
    {
     "data": {
      "text/html": [
       "<div>\n",
       "<style scoped>\n",
       "    .dataframe tbody tr th:only-of-type {\n",
       "        vertical-align: middle;\n",
       "    }\n",
       "\n",
       "    .dataframe tbody tr th {\n",
       "        vertical-align: top;\n",
       "    }\n",
       "\n",
       "    .dataframe thead th {\n",
       "        text-align: right;\n",
       "    }\n",
       "</style>\n",
       "<table border=\"1\" class=\"dataframe\">\n",
       "  <thead>\n",
       "    <tr style=\"text-align: right;\">\n",
       "      <th></th>\n",
       "      <th>maas</th>\n",
       "      <th>yas</th>\n",
       "      <th>calısma saati</th>\n",
       "    </tr>\n",
       "  </thead>\n",
       "  <tbody>\n",
       "    <tr>\n",
       "      <th>Ali</th>\n",
       "      <td>-2.045800</td>\n",
       "      <td>NaN</td>\n",
       "      <td>-0.332382</td>\n",
       "    </tr>\n",
       "    <tr>\n",
       "      <th>Hadi</th>\n",
       "      <td>NaN</td>\n",
       "      <td>NaN</td>\n",
       "      <td>-1.027017</td>\n",
       "    </tr>\n",
       "    <tr>\n",
       "      <th>Elif</th>\n",
       "      <td>-0.479105</td>\n",
       "      <td>-0.988837</td>\n",
       "      <td>NaN</td>\n",
       "    </tr>\n",
       "    <tr>\n",
       "      <th>Gamze</th>\n",
       "      <td>-0.925423</td>\n",
       "      <td>-0.777236</td>\n",
       "      <td>-0.733249</td>\n",
       "    </tr>\n",
       "  </tbody>\n",
       "</table>\n",
       "</div>"
      ],
      "text/plain": [
       "           maas       yas  calısma saati\n",
       "Ali   -2.045800       NaN      -0.332382\n",
       "Hadi        NaN       NaN      -1.027017\n",
       "Elif  -0.479105 -0.988837            NaN\n",
       "Gamze -0.925423 -0.777236      -0.733249"
      ]
     },
     "execution_count": 163,
     "metadata": {},
     "output_type": "execute_result"
    }
   ],
   "source": [
    "yeniDataFrame2[booleanFrame]"
   ]
  },
  {
   "cell_type": "code",
   "execution_count": 164,
   "metadata": {},
   "outputs": [
    {
     "data": {
      "text/html": [
       "<div>\n",
       "<style scoped>\n",
       "    .dataframe tbody tr th:only-of-type {\n",
       "        vertical-align: middle;\n",
       "    }\n",
       "\n",
       "    .dataframe tbody tr th {\n",
       "        vertical-align: top;\n",
       "    }\n",
       "\n",
       "    .dataframe thead th {\n",
       "        text-align: right;\n",
       "    }\n",
       "</style>\n",
       "<table border=\"1\" class=\"dataframe\">\n",
       "  <thead>\n",
       "    <tr style=\"text-align: right;\">\n",
       "      <th></th>\n",
       "      <th>maas</th>\n",
       "      <th>yas</th>\n",
       "      <th>calısma saati</th>\n",
       "    </tr>\n",
       "  </thead>\n",
       "  <tbody>\n",
       "    <tr>\n",
       "      <th>Ali</th>\n",
       "      <td>-2.045800</td>\n",
       "      <td>NaN</td>\n",
       "      <td>-0.332382</td>\n",
       "    </tr>\n",
       "    <tr>\n",
       "      <th>Hadi</th>\n",
       "      <td>NaN</td>\n",
       "      <td>NaN</td>\n",
       "      <td>-1.027017</td>\n",
       "    </tr>\n",
       "    <tr>\n",
       "      <th>Elif</th>\n",
       "      <td>-0.479105</td>\n",
       "      <td>-0.988837</td>\n",
       "      <td>NaN</td>\n",
       "    </tr>\n",
       "    <tr>\n",
       "      <th>Gamze</th>\n",
       "      <td>-0.925423</td>\n",
       "      <td>-0.777236</td>\n",
       "      <td>-0.733249</td>\n",
       "    </tr>\n",
       "  </tbody>\n",
       "</table>\n",
       "</div>"
      ],
      "text/plain": [
       "           maas       yas  calısma saati\n",
       "Ali   -2.045800       NaN      -0.332382\n",
       "Hadi        NaN       NaN      -1.027017\n",
       "Elif  -0.479105 -0.988837            NaN\n",
       "Gamze -0.925423 -0.777236      -0.733249"
      ]
     },
     "execution_count": 164,
     "metadata": {},
     "output_type": "execute_result"
    }
   ],
   "source": [
    "yeniDataFrame2[yeniDataFrame2<0]"
   ]
  },
  {
   "cell_type": "code",
   "execution_count": 165,
   "metadata": {},
   "outputs": [
    {
     "data": {
      "text/html": [
       "<div>\n",
       "<style scoped>\n",
       "    .dataframe tbody tr th:only-of-type {\n",
       "        vertical-align: middle;\n",
       "    }\n",
       "\n",
       "    .dataframe tbody tr th {\n",
       "        vertical-align: top;\n",
       "    }\n",
       "\n",
       "    .dataframe thead th {\n",
       "        text-align: right;\n",
       "    }\n",
       "</style>\n",
       "<table border=\"1\" class=\"dataframe\">\n",
       "  <thead>\n",
       "    <tr style=\"text-align: right;\">\n",
       "      <th></th>\n",
       "      <th>maas</th>\n",
       "      <th>yas</th>\n",
       "      <th>calısma saati</th>\n",
       "    </tr>\n",
       "  </thead>\n",
       "  <tbody>\n",
       "    <tr>\n",
       "      <th>Ali</th>\n",
       "      <td>-2.04580</td>\n",
       "      <td>1.144468</td>\n",
       "      <td>-0.332382</td>\n",
       "    </tr>\n",
       "    <tr>\n",
       "      <th>Hadi</th>\n",
       "      <td>0.90432</td>\n",
       "      <td>0.359384</td>\n",
       "      <td>-1.027017</td>\n",
       "    </tr>\n",
       "  </tbody>\n",
       "</table>\n",
       "</div>"
      ],
      "text/plain": [
       "         maas       yas  calısma saati\n",
       "Ali  -2.04580  1.144468      -0.332382\n",
       "Hadi  0.90432  0.359384      -1.027017"
      ]
     },
     "execution_count": 165,
     "metadata": {},
     "output_type": "execute_result"
    }
   ],
   "source": [
    "yeniDataFrame2[yeniDataFrame2[\"yas\"]>0]"
   ]
  },
  {
   "cell_type": "code",
   "execution_count": 166,
   "metadata": {},
   "outputs": [
    {
     "data": {
      "text/html": [
       "<div>\n",
       "<style scoped>\n",
       "    .dataframe tbody tr th:only-of-type {\n",
       "        vertical-align: middle;\n",
       "    }\n",
       "\n",
       "    .dataframe tbody tr th {\n",
       "        vertical-align: top;\n",
       "    }\n",
       "\n",
       "    .dataframe thead th {\n",
       "        text-align: right;\n",
       "    }\n",
       "</style>\n",
       "<table border=\"1\" class=\"dataframe\">\n",
       "  <thead>\n",
       "    <tr style=\"text-align: right;\">\n",
       "      <th></th>\n",
       "      <th>maas</th>\n",
       "      <th>yas</th>\n",
       "      <th>calısma saati</th>\n",
       "    </tr>\n",
       "  </thead>\n",
       "  <tbody>\n",
       "    <tr>\n",
       "      <th>Elif</th>\n",
       "      <td>-0.479105</td>\n",
       "      <td>-0.988837</td>\n",
       "      <td>0.147617</td>\n",
       "    </tr>\n",
       "  </tbody>\n",
       "</table>\n",
       "</div>"
      ],
      "text/plain": [
       "          maas       yas  calısma saati\n",
       "Elif -0.479105 -0.988837       0.147617"
      ]
     },
     "execution_count": 166,
     "metadata": {},
     "output_type": "execute_result"
    }
   ],
   "source": [
    "yeniDataFrame2[yeniDataFrame2[\"calısma saati\"]>0]"
   ]
  },
  {
   "cell_type": "code",
   "execution_count": 167,
   "metadata": {},
   "outputs": [
    {
     "data": {
      "text/html": [
       "<div>\n",
       "<style scoped>\n",
       "    .dataframe tbody tr th:only-of-type {\n",
       "        vertical-align: middle;\n",
       "    }\n",
       "\n",
       "    .dataframe tbody tr th {\n",
       "        vertical-align: top;\n",
       "    }\n",
       "\n",
       "    .dataframe thead th {\n",
       "        text-align: right;\n",
       "    }\n",
       "</style>\n",
       "<table border=\"1\" class=\"dataframe\">\n",
       "  <thead>\n",
       "    <tr style=\"text-align: right;\">\n",
       "      <th></th>\n",
       "      <th>maas</th>\n",
       "      <th>yas</th>\n",
       "      <th>calısma saati</th>\n",
       "    </tr>\n",
       "  </thead>\n",
       "  <tbody>\n",
       "    <tr>\n",
       "      <th>Ali</th>\n",
       "      <td>-2.045800</td>\n",
       "      <td>1.144468</td>\n",
       "      <td>-0.332382</td>\n",
       "    </tr>\n",
       "    <tr>\n",
       "      <th>Hadi</th>\n",
       "      <td>0.904320</td>\n",
       "      <td>0.359384</td>\n",
       "      <td>-1.027017</td>\n",
       "    </tr>\n",
       "    <tr>\n",
       "      <th>Elif</th>\n",
       "      <td>-0.479105</td>\n",
       "      <td>-0.988837</td>\n",
       "      <td>0.147617</td>\n",
       "    </tr>\n",
       "    <tr>\n",
       "      <th>Gamze</th>\n",
       "      <td>-0.925423</td>\n",
       "      <td>-0.777236</td>\n",
       "      <td>-0.733249</td>\n",
       "    </tr>\n",
       "  </tbody>\n",
       "</table>\n",
       "</div>"
      ],
      "text/plain": [
       "           maas       yas  calısma saati\n",
       "Ali   -2.045800  1.144468      -0.332382\n",
       "Hadi   0.904320  0.359384      -1.027017\n",
       "Elif  -0.479105 -0.988837       0.147617\n",
       "Gamze -0.925423 -0.777236      -0.733249"
      ]
     },
     "execution_count": 167,
     "metadata": {},
     "output_type": "execute_result"
    }
   ],
   "source": [
    "yeniDataFrame2"
   ]
  },
  {
   "cell_type": "code",
   "execution_count": null,
   "metadata": {},
   "outputs": [],
   "source": []
  },
  {
   "cell_type": "code",
   "execution_count": null,
   "metadata": {},
   "outputs": [],
   "source": []
  },
  {
   "cell_type": "markdown",
   "metadata": {},
   "source": [
    "## İndex değiştirme"
   ]
  },
  {
   "cell_type": "code",
   "execution_count": 168,
   "metadata": {},
   "outputs": [
    {
     "data": {
      "text/html": [
       "<div>\n",
       "<style scoped>\n",
       "    .dataframe tbody tr th:only-of-type {\n",
       "        vertical-align: middle;\n",
       "    }\n",
       "\n",
       "    .dataframe tbody tr th {\n",
       "        vertical-align: top;\n",
       "    }\n",
       "\n",
       "    .dataframe thead th {\n",
       "        text-align: right;\n",
       "    }\n",
       "</style>\n",
       "<table border=\"1\" class=\"dataframe\">\n",
       "  <thead>\n",
       "    <tr style=\"text-align: right;\">\n",
       "      <th></th>\n",
       "      <th>index</th>\n",
       "      <th>maas</th>\n",
       "      <th>yas</th>\n",
       "      <th>calısma saati</th>\n",
       "    </tr>\n",
       "  </thead>\n",
       "  <tbody>\n",
       "    <tr>\n",
       "      <th>0</th>\n",
       "      <td>Ali</td>\n",
       "      <td>-2.045800</td>\n",
       "      <td>1.144468</td>\n",
       "      <td>-0.332382</td>\n",
       "    </tr>\n",
       "    <tr>\n",
       "      <th>1</th>\n",
       "      <td>Hadi</td>\n",
       "      <td>0.904320</td>\n",
       "      <td>0.359384</td>\n",
       "      <td>-1.027017</td>\n",
       "    </tr>\n",
       "    <tr>\n",
       "      <th>2</th>\n",
       "      <td>Elif</td>\n",
       "      <td>-0.479105</td>\n",
       "      <td>-0.988837</td>\n",
       "      <td>0.147617</td>\n",
       "    </tr>\n",
       "    <tr>\n",
       "      <th>3</th>\n",
       "      <td>Gamze</td>\n",
       "      <td>-0.925423</td>\n",
       "      <td>-0.777236</td>\n",
       "      <td>-0.733249</td>\n",
       "    </tr>\n",
       "  </tbody>\n",
       "</table>\n",
       "</div>"
      ],
      "text/plain": [
       "   index      maas       yas  calısma saati\n",
       "0    Ali -2.045800  1.144468      -0.332382\n",
       "1   Hadi  0.904320  0.359384      -1.027017\n",
       "2   Elif -0.479105 -0.988837       0.147617\n",
       "3  Gamze -0.925423 -0.777236      -0.733249"
      ]
     },
     "execution_count": 168,
     "metadata": {},
     "output_type": "execute_result"
    }
   ],
   "source": [
    "yeniDataFrame2.reset_index()"
   ]
  },
  {
   "cell_type": "code",
   "execution_count": 169,
   "metadata": {},
   "outputs": [
    {
     "data": {
      "text/html": [
       "<div>\n",
       "<style scoped>\n",
       "    .dataframe tbody tr th:only-of-type {\n",
       "        vertical-align: middle;\n",
       "    }\n",
       "\n",
       "    .dataframe tbody tr th {\n",
       "        vertical-align: top;\n",
       "    }\n",
       "\n",
       "    .dataframe thead th {\n",
       "        text-align: right;\n",
       "    }\n",
       "</style>\n",
       "<table border=\"1\" class=\"dataframe\">\n",
       "  <thead>\n",
       "    <tr style=\"text-align: right;\">\n",
       "      <th></th>\n",
       "      <th>maas</th>\n",
       "      <th>yas</th>\n",
       "      <th>calısma saati</th>\n",
       "    </tr>\n",
       "  </thead>\n",
       "  <tbody>\n",
       "    <tr>\n",
       "      <th>Ali</th>\n",
       "      <td>-2.045800</td>\n",
       "      <td>1.144468</td>\n",
       "      <td>-0.332382</td>\n",
       "    </tr>\n",
       "    <tr>\n",
       "      <th>Hadi</th>\n",
       "      <td>0.904320</td>\n",
       "      <td>0.359384</td>\n",
       "      <td>-1.027017</td>\n",
       "    </tr>\n",
       "    <tr>\n",
       "      <th>Elif</th>\n",
       "      <td>-0.479105</td>\n",
       "      <td>-0.988837</td>\n",
       "      <td>0.147617</td>\n",
       "    </tr>\n",
       "    <tr>\n",
       "      <th>Gamze</th>\n",
       "      <td>-0.925423</td>\n",
       "      <td>-0.777236</td>\n",
       "      <td>-0.733249</td>\n",
       "    </tr>\n",
       "  </tbody>\n",
       "</table>\n",
       "</div>"
      ],
      "text/plain": [
       "           maas       yas  calısma saati\n",
       "Ali   -2.045800  1.144468      -0.332382\n",
       "Hadi   0.904320  0.359384      -1.027017\n",
       "Elif  -0.479105 -0.988837       0.147617\n",
       "Gamze -0.925423 -0.777236      -0.733249"
      ]
     },
     "execution_count": 169,
     "metadata": {},
     "output_type": "execute_result"
    }
   ],
   "source": [
    "yeniDataFrame2"
   ]
  },
  {
   "cell_type": "code",
   "execution_count": 170,
   "metadata": {},
   "outputs": [],
   "source": [
    "yeniIndexListesi=[\"A\",\"H\",\"E\",\"G\"]"
   ]
  },
  {
   "cell_type": "code",
   "execution_count": 171,
   "metadata": {},
   "outputs": [],
   "source": [
    "yeniDataFrame2[\"Yeni index\"]=yeniIndexListesi"
   ]
  },
  {
   "cell_type": "code",
   "execution_count": 172,
   "metadata": {},
   "outputs": [
    {
     "data": {
      "text/html": [
       "<div>\n",
       "<style scoped>\n",
       "    .dataframe tbody tr th:only-of-type {\n",
       "        vertical-align: middle;\n",
       "    }\n",
       "\n",
       "    .dataframe tbody tr th {\n",
       "        vertical-align: top;\n",
       "    }\n",
       "\n",
       "    .dataframe thead th {\n",
       "        text-align: right;\n",
       "    }\n",
       "</style>\n",
       "<table border=\"1\" class=\"dataframe\">\n",
       "  <thead>\n",
       "    <tr style=\"text-align: right;\">\n",
       "      <th></th>\n",
       "      <th>maas</th>\n",
       "      <th>yas</th>\n",
       "      <th>calısma saati</th>\n",
       "      <th>Yeni index</th>\n",
       "    </tr>\n",
       "  </thead>\n",
       "  <tbody>\n",
       "    <tr>\n",
       "      <th>Ali</th>\n",
       "      <td>-2.045800</td>\n",
       "      <td>1.144468</td>\n",
       "      <td>-0.332382</td>\n",
       "      <td>A</td>\n",
       "    </tr>\n",
       "    <tr>\n",
       "      <th>Hadi</th>\n",
       "      <td>0.904320</td>\n",
       "      <td>0.359384</td>\n",
       "      <td>-1.027017</td>\n",
       "      <td>H</td>\n",
       "    </tr>\n",
       "    <tr>\n",
       "      <th>Elif</th>\n",
       "      <td>-0.479105</td>\n",
       "      <td>-0.988837</td>\n",
       "      <td>0.147617</td>\n",
       "      <td>E</td>\n",
       "    </tr>\n",
       "    <tr>\n",
       "      <th>Gamze</th>\n",
       "      <td>-0.925423</td>\n",
       "      <td>-0.777236</td>\n",
       "      <td>-0.733249</td>\n",
       "      <td>G</td>\n",
       "    </tr>\n",
       "  </tbody>\n",
       "</table>\n",
       "</div>"
      ],
      "text/plain": [
       "           maas       yas  calısma saati Yeni index\n",
       "Ali   -2.045800  1.144468      -0.332382          A\n",
       "Hadi   0.904320  0.359384      -1.027017          H\n",
       "Elif  -0.479105 -0.988837       0.147617          E\n",
       "Gamze -0.925423 -0.777236      -0.733249          G"
      ]
     },
     "execution_count": 172,
     "metadata": {},
     "output_type": "execute_result"
    }
   ],
   "source": [
    "yeniDataFrame2"
   ]
  },
  {
   "cell_type": "code",
   "execution_count": 173,
   "metadata": {},
   "outputs": [
    {
     "data": {
      "text/html": [
       "<div>\n",
       "<style scoped>\n",
       "    .dataframe tbody tr th:only-of-type {\n",
       "        vertical-align: middle;\n",
       "    }\n",
       "\n",
       "    .dataframe tbody tr th {\n",
       "        vertical-align: top;\n",
       "    }\n",
       "\n",
       "    .dataframe thead th {\n",
       "        text-align: right;\n",
       "    }\n",
       "</style>\n",
       "<table border=\"1\" class=\"dataframe\">\n",
       "  <thead>\n",
       "    <tr style=\"text-align: right;\">\n",
       "      <th></th>\n",
       "      <th>maas</th>\n",
       "      <th>yas</th>\n",
       "      <th>calısma saati</th>\n",
       "    </tr>\n",
       "    <tr>\n",
       "      <th>Yeni index</th>\n",
       "      <th></th>\n",
       "      <th></th>\n",
       "      <th></th>\n",
       "    </tr>\n",
       "  </thead>\n",
       "  <tbody>\n",
       "    <tr>\n",
       "      <th>A</th>\n",
       "      <td>-2.045800</td>\n",
       "      <td>1.144468</td>\n",
       "      <td>-0.332382</td>\n",
       "    </tr>\n",
       "    <tr>\n",
       "      <th>H</th>\n",
       "      <td>0.904320</td>\n",
       "      <td>0.359384</td>\n",
       "      <td>-1.027017</td>\n",
       "    </tr>\n",
       "    <tr>\n",
       "      <th>E</th>\n",
       "      <td>-0.479105</td>\n",
       "      <td>-0.988837</td>\n",
       "      <td>0.147617</td>\n",
       "    </tr>\n",
       "    <tr>\n",
       "      <th>G</th>\n",
       "      <td>-0.925423</td>\n",
       "      <td>-0.777236</td>\n",
       "      <td>-0.733249</td>\n",
       "    </tr>\n",
       "  </tbody>\n",
       "</table>\n",
       "</div>"
      ],
      "text/plain": [
       "                maas       yas  calısma saati\n",
       "Yeni index                                   \n",
       "A          -2.045800  1.144468      -0.332382\n",
       "H           0.904320  0.359384      -1.027017\n",
       "E          -0.479105 -0.988837       0.147617\n",
       "G          -0.925423 -0.777236      -0.733249"
      ]
     },
     "execution_count": 173,
     "metadata": {},
     "output_type": "execute_result"
    }
   ],
   "source": [
    "yeniDataFrame2.set_index(\"Yeni index\")"
   ]
  },
  {
   "cell_type": "code",
   "execution_count": 175,
   "metadata": {},
   "outputs": [
    {
     "data": {
      "text/html": [
       "<div>\n",
       "<style scoped>\n",
       "    .dataframe tbody tr th:only-of-type {\n",
       "        vertical-align: middle;\n",
       "    }\n",
       "\n",
       "    .dataframe tbody tr th {\n",
       "        vertical-align: top;\n",
       "    }\n",
       "\n",
       "    .dataframe thead th {\n",
       "        text-align: right;\n",
       "    }\n",
       "</style>\n",
       "<table border=\"1\" class=\"dataframe\">\n",
       "  <thead>\n",
       "    <tr style=\"text-align: right;\">\n",
       "      <th></th>\n",
       "      <th>maas</th>\n",
       "      <th>yas</th>\n",
       "      <th>calısma saati</th>\n",
       "      <th>Yeni index</th>\n",
       "    </tr>\n",
       "  </thead>\n",
       "  <tbody>\n",
       "    <tr>\n",
       "      <th>Ali</th>\n",
       "      <td>-2.045800</td>\n",
       "      <td>1.144468</td>\n",
       "      <td>-0.332382</td>\n",
       "      <td>A</td>\n",
       "    </tr>\n",
       "    <tr>\n",
       "      <th>Hadi</th>\n",
       "      <td>0.904320</td>\n",
       "      <td>0.359384</td>\n",
       "      <td>-1.027017</td>\n",
       "      <td>H</td>\n",
       "    </tr>\n",
       "    <tr>\n",
       "      <th>Elif</th>\n",
       "      <td>-0.479105</td>\n",
       "      <td>-0.988837</td>\n",
       "      <td>0.147617</td>\n",
       "      <td>E</td>\n",
       "    </tr>\n",
       "    <tr>\n",
       "      <th>Gamze</th>\n",
       "      <td>-0.925423</td>\n",
       "      <td>-0.777236</td>\n",
       "      <td>-0.733249</td>\n",
       "      <td>G</td>\n",
       "    </tr>\n",
       "  </tbody>\n",
       "</table>\n",
       "</div>"
      ],
      "text/plain": [
       "           maas       yas  calısma saati Yeni index\n",
       "Ali   -2.045800  1.144468      -0.332382          A\n",
       "Hadi   0.904320  0.359384      -1.027017          H\n",
       "Elif  -0.479105 -0.988837       0.147617          E\n",
       "Gamze -0.925423 -0.777236      -0.733249          G"
      ]
     },
     "execution_count": 175,
     "metadata": {},
     "output_type": "execute_result"
    }
   ],
   "source": [
    "yeniDataFrame2"
   ]
  },
  {
   "cell_type": "code",
   "execution_count": 176,
   "metadata": {},
   "outputs": [],
   "source": [
    "yeniDataFrame2.set_index(\"Yeni index\",inplace=True)"
   ]
  },
  {
   "cell_type": "code",
   "execution_count": 177,
   "metadata": {},
   "outputs": [
    {
     "data": {
      "text/html": [
       "<div>\n",
       "<style scoped>\n",
       "    .dataframe tbody tr th:only-of-type {\n",
       "        vertical-align: middle;\n",
       "    }\n",
       "\n",
       "    .dataframe tbody tr th {\n",
       "        vertical-align: top;\n",
       "    }\n",
       "\n",
       "    .dataframe thead th {\n",
       "        text-align: right;\n",
       "    }\n",
       "</style>\n",
       "<table border=\"1\" class=\"dataframe\">\n",
       "  <thead>\n",
       "    <tr style=\"text-align: right;\">\n",
       "      <th></th>\n",
       "      <th>maas</th>\n",
       "      <th>yas</th>\n",
       "      <th>calısma saati</th>\n",
       "    </tr>\n",
       "    <tr>\n",
       "      <th>Yeni index</th>\n",
       "      <th></th>\n",
       "      <th></th>\n",
       "      <th></th>\n",
       "    </tr>\n",
       "  </thead>\n",
       "  <tbody>\n",
       "    <tr>\n",
       "      <th>A</th>\n",
       "      <td>-2.045800</td>\n",
       "      <td>1.144468</td>\n",
       "      <td>-0.332382</td>\n",
       "    </tr>\n",
       "    <tr>\n",
       "      <th>H</th>\n",
       "      <td>0.904320</td>\n",
       "      <td>0.359384</td>\n",
       "      <td>-1.027017</td>\n",
       "    </tr>\n",
       "    <tr>\n",
       "      <th>E</th>\n",
       "      <td>-0.479105</td>\n",
       "      <td>-0.988837</td>\n",
       "      <td>0.147617</td>\n",
       "    </tr>\n",
       "    <tr>\n",
       "      <th>G</th>\n",
       "      <td>-0.925423</td>\n",
       "      <td>-0.777236</td>\n",
       "      <td>-0.733249</td>\n",
       "    </tr>\n",
       "  </tbody>\n",
       "</table>\n",
       "</div>"
      ],
      "text/plain": [
       "                maas       yas  calısma saati\n",
       "Yeni index                                   \n",
       "A          -2.045800  1.144468      -0.332382\n",
       "H           0.904320  0.359384      -1.027017\n",
       "E          -0.479105 -0.988837       0.147617\n",
       "G          -0.925423 -0.777236      -0.733249"
      ]
     },
     "execution_count": 177,
     "metadata": {},
     "output_type": "execute_result"
    }
   ],
   "source": [
    "yeniDataFrame2"
   ]
  },
  {
   "cell_type": "code",
   "execution_count": 184,
   "metadata": {},
   "outputs": [
    {
     "data": {
      "text/plain": [
       "maas            -2.045800\n",
       "yas              1.144468\n",
       "calısma saati   -0.332382\n",
       "Name: A, dtype: float64"
      ]
     },
     "execution_count": 184,
     "metadata": {},
     "output_type": "execute_result"
    }
   ],
   "source": [
    "yeniDataFrame2.iloc[0]"
   ]
  },
  {
   "cell_type": "code",
   "execution_count": 187,
   "metadata": {},
   "outputs": [
    {
     "data": {
      "text/plain": [
       "maas             0.904320\n",
       "yas              0.359384\n",
       "calısma saati   -1.027017\n",
       "Name: H, dtype: float64"
      ]
     },
     "execution_count": 187,
     "metadata": {},
     "output_type": "execute_result"
    }
   ],
   "source": [
    "yeniDataFrame2.loc[\"H\"]"
   ]
  },
  {
   "cell_type": "markdown",
   "metadata": {},
   "source": [
    "## Multi index"
   ]
  },
  {
   "cell_type": "code",
   "execution_count": 211,
   "metadata": {},
   "outputs": [],
   "source": [
    "soyisim=[\"Simpson\",\"Simpson\",\"Simpson\",\"Sout Park\",\"Sout Park\",\"Sout Park\"]"
   ]
  },
  {
   "cell_type": "code",
   "execution_count": 212,
   "metadata": {},
   "outputs": [],
   "source": [
    "isim=[\"Homer\",\"Bart\",\"Marge\",\"Kartman\",\"Keny\",\"Kayle\"]"
   ]
  },
  {
   "cell_type": "code",
   "execution_count": 213,
   "metadata": {},
   "outputs": [],
   "source": [
    "birlesmisTuple=list(zip(soyisim,isim))"
   ]
  },
  {
   "cell_type": "code",
   "execution_count": 214,
   "metadata": {},
   "outputs": [
    {
     "data": {
      "text/plain": [
       "[('Simpson', 'Homer'),\n",
       " ('Simpson', 'Bart'),\n",
       " ('Simpson', 'Marge'),\n",
       " ('Sout Park', 'Kartman'),\n",
       " ('Sout Park', 'Keny'),\n",
       " ('Sout Park', 'Kayle')]"
      ]
     },
     "execution_count": 214,
     "metadata": {},
     "output_type": "execute_result"
    }
   ],
   "source": [
    "birlesmisTuple"
   ]
  },
  {
   "cell_type": "code",
   "execution_count": 216,
   "metadata": {},
   "outputs": [],
   "source": [
    "birlesmisTuple=pd.MultiIndex.from_tuples(birlesmisTuple)"
   ]
  },
  {
   "cell_type": "code",
   "execution_count": 218,
   "metadata": {},
   "outputs": [
    {
     "data": {
      "text/plain": [
       "MultiIndex([(  'Simpson',   'Homer'),\n",
       "            (  'Simpson',    'Bart'),\n",
       "            (  'Simpson',   'Marge'),\n",
       "            ('Sout Park', 'Kartman'),\n",
       "            ('Sout Park',    'Keny'),\n",
       "            ('Sout Park',   'Kayle')],\n",
       "           )"
      ]
     },
     "execution_count": 218,
     "metadata": {},
     "output_type": "execute_result"
    }
   ],
   "source": [
    "birlesmisTuple"
   ]
  },
  {
   "cell_type": "code",
   "execution_count": 219,
   "metadata": {},
   "outputs": [],
   "source": [
    "yasMeslekDatası=[[40,\"A\"],[10,\"B\"],[30,\"C\"],[9,\"D\"],[10,\"E\"],[11,\"F\"]]"
   ]
  },
  {
   "cell_type": "code",
   "execution_count": 220,
   "metadata": {},
   "outputs": [],
   "source": [
    "multiIndexDataFrame=pd.DataFrame(yasMeslekDatası,index=birlesmisTuple,columns=[\"Yas\",\"Meslek\"])"
   ]
  },
  {
   "cell_type": "code",
   "execution_count": 221,
   "metadata": {},
   "outputs": [
    {
     "data": {
      "text/html": [
       "<div>\n",
       "<style scoped>\n",
       "    .dataframe tbody tr th:only-of-type {\n",
       "        vertical-align: middle;\n",
       "    }\n",
       "\n",
       "    .dataframe tbody tr th {\n",
       "        vertical-align: top;\n",
       "    }\n",
       "\n",
       "    .dataframe thead th {\n",
       "        text-align: right;\n",
       "    }\n",
       "</style>\n",
       "<table border=\"1\" class=\"dataframe\">\n",
       "  <thead>\n",
       "    <tr style=\"text-align: right;\">\n",
       "      <th></th>\n",
       "      <th></th>\n",
       "      <th>Yas</th>\n",
       "      <th>Meslek</th>\n",
       "    </tr>\n",
       "  </thead>\n",
       "  <tbody>\n",
       "    <tr>\n",
       "      <th rowspan=\"3\" valign=\"top\">Simpson</th>\n",
       "      <th>Homer</th>\n",
       "      <td>40</td>\n",
       "      <td>A</td>\n",
       "    </tr>\n",
       "    <tr>\n",
       "      <th>Bart</th>\n",
       "      <td>10</td>\n",
       "      <td>B</td>\n",
       "    </tr>\n",
       "    <tr>\n",
       "      <th>Marge</th>\n",
       "      <td>30</td>\n",
       "      <td>C</td>\n",
       "    </tr>\n",
       "    <tr>\n",
       "      <th rowspan=\"3\" valign=\"top\">Sout Park</th>\n",
       "      <th>Kartman</th>\n",
       "      <td>9</td>\n",
       "      <td>D</td>\n",
       "    </tr>\n",
       "    <tr>\n",
       "      <th>Keny</th>\n",
       "      <td>10</td>\n",
       "      <td>E</td>\n",
       "    </tr>\n",
       "    <tr>\n",
       "      <th>Kayle</th>\n",
       "      <td>11</td>\n",
       "      <td>F</td>\n",
       "    </tr>\n",
       "  </tbody>\n",
       "</table>\n",
       "</div>"
      ],
      "text/plain": [
       "                   Yas Meslek\n",
       "Simpson   Homer     40      A\n",
       "          Bart      10      B\n",
       "          Marge     30      C\n",
       "Sout Park Kartman    9      D\n",
       "          Keny      10      E\n",
       "          Kayle     11      F"
      ]
     },
     "execution_count": 221,
     "metadata": {},
     "output_type": "execute_result"
    }
   ],
   "source": [
    "multiIndexDataFrame"
   ]
  },
  {
   "cell_type": "code",
   "execution_count": 228,
   "metadata": {},
   "outputs": [
    {
     "data": {
      "text/html": [
       "<div>\n",
       "<style scoped>\n",
       "    .dataframe tbody tr th:only-of-type {\n",
       "        vertical-align: middle;\n",
       "    }\n",
       "\n",
       "    .dataframe tbody tr th {\n",
       "        vertical-align: top;\n",
       "    }\n",
       "\n",
       "    .dataframe thead th {\n",
       "        text-align: right;\n",
       "    }\n",
       "</style>\n",
       "<table border=\"1\" class=\"dataframe\">\n",
       "  <thead>\n",
       "    <tr style=\"text-align: right;\">\n",
       "      <th></th>\n",
       "      <th>Yas</th>\n",
       "      <th>Meslek</th>\n",
       "    </tr>\n",
       "  </thead>\n",
       "  <tbody>\n",
       "    <tr>\n",
       "      <th>Homer</th>\n",
       "      <td>40</td>\n",
       "      <td>A</td>\n",
       "    </tr>\n",
       "    <tr>\n",
       "      <th>Bart</th>\n",
       "      <td>10</td>\n",
       "      <td>B</td>\n",
       "    </tr>\n",
       "    <tr>\n",
       "      <th>Marge</th>\n",
       "      <td>30</td>\n",
       "      <td>C</td>\n",
       "    </tr>\n",
       "  </tbody>\n",
       "</table>\n",
       "</div>"
      ],
      "text/plain": [
       "       Yas Meslek\n",
       "Homer   40      A\n",
       "Bart    10      B\n",
       "Marge   30      C"
      ]
     },
     "execution_count": 228,
     "metadata": {},
     "output_type": "execute_result"
    }
   ],
   "source": [
    "multiIndexDataFrame.loc[\"Simpson\"]## homer yazınca hata veriyo ama iloc ile çağırınca 0,1,2,3,4,5 leri ayrı ayrı yazıyor"
   ]
  },
  {
   "cell_type": "code",
   "execution_count": 238,
   "metadata": {},
   "outputs": [
    {
     "data": {
      "text/plain": [
       "Yas       10\n",
       "Meslek     B\n",
       "Name: Bart, dtype: object"
      ]
     },
     "execution_count": 238,
     "metadata": {},
     "output_type": "execute_result"
    }
   ],
   "source": [
    "multiIndexDataFrame.loc[\"Simpson\"].loc[\"Bart\"]"
   ]
  },
  {
   "cell_type": "code",
   "execution_count": 239,
   "metadata": {},
   "outputs": [
    {
     "data": {
      "text/html": [
       "<div>\n",
       "<style scoped>\n",
       "    .dataframe tbody tr th:only-of-type {\n",
       "        vertical-align: middle;\n",
       "    }\n",
       "\n",
       "    .dataframe tbody tr th {\n",
       "        vertical-align: top;\n",
       "    }\n",
       "\n",
       "    .dataframe thead th {\n",
       "        text-align: right;\n",
       "    }\n",
       "</style>\n",
       "<table border=\"1\" class=\"dataframe\">\n",
       "  <thead>\n",
       "    <tr style=\"text-align: right;\">\n",
       "      <th></th>\n",
       "      <th></th>\n",
       "      <th>Yas</th>\n",
       "      <th>Meslek</th>\n",
       "    </tr>\n",
       "  </thead>\n",
       "  <tbody>\n",
       "    <tr>\n",
       "      <th rowspan=\"3\" valign=\"top\">Simpson</th>\n",
       "      <th>Homer</th>\n",
       "      <td>40</td>\n",
       "      <td>A</td>\n",
       "    </tr>\n",
       "    <tr>\n",
       "      <th>Bart</th>\n",
       "      <td>10</td>\n",
       "      <td>B</td>\n",
       "    </tr>\n",
       "    <tr>\n",
       "      <th>Marge</th>\n",
       "      <td>30</td>\n",
       "      <td>C</td>\n",
       "    </tr>\n",
       "    <tr>\n",
       "      <th rowspan=\"3\" valign=\"top\">Sout Park</th>\n",
       "      <th>Kartman</th>\n",
       "      <td>9</td>\n",
       "      <td>D</td>\n",
       "    </tr>\n",
       "    <tr>\n",
       "      <th>Keny</th>\n",
       "      <td>10</td>\n",
       "      <td>E</td>\n",
       "    </tr>\n",
       "    <tr>\n",
       "      <th>Kayle</th>\n",
       "      <td>11</td>\n",
       "      <td>F</td>\n",
       "    </tr>\n",
       "  </tbody>\n",
       "</table>\n",
       "</div>"
      ],
      "text/plain": [
       "                   Yas Meslek\n",
       "Simpson   Homer     40      A\n",
       "          Bart      10      B\n",
       "          Marge     30      C\n",
       "Sout Park Kartman    9      D\n",
       "          Keny      10      E\n",
       "          Kayle     11      F"
      ]
     },
     "execution_count": 239,
     "metadata": {},
     "output_type": "execute_result"
    }
   ],
   "source": [
    "multiIndexDataFrame"
   ]
  },
  {
   "cell_type": "code",
   "execution_count": 243,
   "metadata": {},
   "outputs": [],
   "source": [
    "multiIndexDataFrame.index.names=[\"Soy isim\",\"isim\"]"
   ]
  },
  {
   "cell_type": "code",
   "execution_count": 244,
   "metadata": {},
   "outputs": [
    {
     "data": {
      "text/html": [
       "<div>\n",
       "<style scoped>\n",
       "    .dataframe tbody tr th:only-of-type {\n",
       "        vertical-align: middle;\n",
       "    }\n",
       "\n",
       "    .dataframe tbody tr th {\n",
       "        vertical-align: top;\n",
       "    }\n",
       "\n",
       "    .dataframe thead th {\n",
       "        text-align: right;\n",
       "    }\n",
       "</style>\n",
       "<table border=\"1\" class=\"dataframe\">\n",
       "  <thead>\n",
       "    <tr style=\"text-align: right;\">\n",
       "      <th></th>\n",
       "      <th></th>\n",
       "      <th>Yas</th>\n",
       "      <th>Meslek</th>\n",
       "    </tr>\n",
       "    <tr>\n",
       "      <th>Soy isim</th>\n",
       "      <th>isim</th>\n",
       "      <th></th>\n",
       "      <th></th>\n",
       "    </tr>\n",
       "  </thead>\n",
       "  <tbody>\n",
       "    <tr>\n",
       "      <th rowspan=\"3\" valign=\"top\">Simpson</th>\n",
       "      <th>Homer</th>\n",
       "      <td>40</td>\n",
       "      <td>A</td>\n",
       "    </tr>\n",
       "    <tr>\n",
       "      <th>Bart</th>\n",
       "      <td>10</td>\n",
       "      <td>B</td>\n",
       "    </tr>\n",
       "    <tr>\n",
       "      <th>Marge</th>\n",
       "      <td>30</td>\n",
       "      <td>C</td>\n",
       "    </tr>\n",
       "    <tr>\n",
       "      <th rowspan=\"3\" valign=\"top\">Sout Park</th>\n",
       "      <th>Kartman</th>\n",
       "      <td>9</td>\n",
       "      <td>D</td>\n",
       "    </tr>\n",
       "    <tr>\n",
       "      <th>Keny</th>\n",
       "      <td>10</td>\n",
       "      <td>E</td>\n",
       "    </tr>\n",
       "    <tr>\n",
       "      <th>Kayle</th>\n",
       "      <td>11</td>\n",
       "      <td>F</td>\n",
       "    </tr>\n",
       "  </tbody>\n",
       "</table>\n",
       "</div>"
      ],
      "text/plain": [
       "                   Yas Meslek\n",
       "Soy isim  isim               \n",
       "Simpson   Homer     40      A\n",
       "          Bart      10      B\n",
       "          Marge     30      C\n",
       "Sout Park Kartman    9      D\n",
       "          Keny      10      E\n",
       "          Kayle     11      F"
      ]
     },
     "execution_count": 244,
     "metadata": {},
     "output_type": "execute_result"
    }
   ],
   "source": [
    "multiIndexDataFrame"
   ]
  },
  {
   "cell_type": "code",
   "execution_count": null,
   "metadata": {},
   "outputs": [],
   "source": []
  }
 ],
 "metadata": {
  "kernelspec": {
   "display_name": "Python 3",
   "language": "python",
   "name": "python3"
  },
  "language_info": {
   "codemirror_mode": {
    "name": "ipython",
    "version": 3
   },
   "file_extension": ".py",
   "mimetype": "text/x-python",
   "name": "python",
   "nbconvert_exporter": "python",
   "pygments_lexer": "ipython3",
   "version": "3.8.3"
  }
 },
 "nbformat": 4,
 "nbformat_minor": 4
}
