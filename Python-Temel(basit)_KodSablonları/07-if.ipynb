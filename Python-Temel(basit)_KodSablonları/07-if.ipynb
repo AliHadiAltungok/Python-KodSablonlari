{
 "cells": [
  {
   "cell_type": "code",
   "execution_count": 10,
   "metadata": {},
   "outputs": [
    {
     "name": "stdout",
     "output_type": "stream",
     "text": [
      "x buyuk\n"
     ]
    }
   ],
   "source": [
    "x=6\n",
    "y=5\n",
    "if x>y:\n",
    "    print(\"x buyuk\")\n",
    "elif x<y:\n",
    "    print(\"y buyuk\")\n",
    "else:\n",
    "    print(\"eşit\")"
   ]
  },
  {
   "cell_type": "code",
   "execution_count": 14,
   "metadata": {},
   "outputs": [
    {
     "name": "stdout",
     "output_type": "stream",
     "text": [
      "var\n"
     ]
    }
   ],
   "source": [
    "benimString=\"Ali Hadi Altungok\"\n",
    "if \"Ali\"in benimString:\n",
    "    print(\"var\")\n",
    "else:\n",
    "    print(\"yok\")"
   ]
  },
  {
   "cell_type": "code",
   "execution_count": 22,
   "metadata": {},
   "outputs": [
    {
     "name": "stdout",
     "output_type": "stream",
     "text": [
      "var\n"
     ]
    }
   ],
   "source": [
    "dictionary={\"muz\":500,\"elma\":600,\"karpuz\":800}\n",
    "if 600 in dictionary.values():\n",
    "    print(\"var\")"
   ]
  },
  {
   "cell_type": "code",
   "execution_count": null,
   "metadata": {},
   "outputs": [],
   "source": []
  }
 ],
 "metadata": {
  "kernelspec": {
   "display_name": "Python 3",
   "language": "python",
   "name": "python3"
  },
  "language_info": {
   "codemirror_mode": {
    "name": "ipython",
    "version": 3
   },
   "file_extension": ".py",
   "mimetype": "text/x-python",
   "name": "python",
   "nbconvert_exporter": "python",
   "pygments_lexer": "ipython3",
   "version": "3.8.3"
  }
 },
 "nbformat": 4,
 "nbformat_minor": 4
}
