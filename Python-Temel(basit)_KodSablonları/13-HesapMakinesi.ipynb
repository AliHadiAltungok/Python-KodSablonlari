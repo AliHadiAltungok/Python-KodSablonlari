{
 "cells": [
  {
   "cell_type": "code",
   "execution_count": null,
   "metadata": {},
   "outputs": [],
   "source": [
    "def hesapla(a,b,islem):\n",
    "    if islem not in \"+-*/\":\n",
    "        return \"Lutfen + - * / islemlerinden birini giriniz\"\n",
    "    \n",
    "    if islem==\"+\":\n",
    "        return str(a)+\"+\"+str(b)+\" = \"+str(a+b)\n",
    "    if islem==\"-\":\n",
    "        return str(a)+\"-\"+str(b)+\" = \"+str(a-b)\n",
    "    if islem==\"*\":\n",
    "        return str(a)+\"*\"+str(b)+\" = \"+str(a*b)\n",
    "    if islem==\"/\":\n",
    "        return str(a)+\"/\"+str(b)+\" = \"+str(a/b)\n",
    "while True:\n",
    "    try:\n",
    "        a=int(input(\"İlk sayıyı gir\"))\n",
    "        b=int(input(\"İkinci sayiyi gir\"))\n",
    "        islem=input(\"İşleminizi seçiniz + - * /\")\n",
    "        print(hesapla(a,b,islem))\n",
    "    except:\n",
    "        print(\"lütfen düzgün sayı giriniz\")"
   ]
  },
  {
   "cell_type": "code",
   "execution_count": null,
   "metadata": {},
   "outputs": [],
   "source": []
  },
  {
   "cell_type": "code",
   "execution_count": null,
   "metadata": {},
   "outputs": [],
   "source": []
  }
 ],
 "metadata": {
  "kernelspec": {
   "display_name": "Python 3",
   "language": "python",
   "name": "python3"
  },
  "language_info": {
   "codemirror_mode": {
    "name": "ipython",
    "version": 3
   },
   "file_extension": ".py",
   "mimetype": "text/x-python",
   "name": "python",
   "nbconvert_exporter": "python",
   "pygments_lexer": "ipython3",
   "version": "3.8.3"
  }
 },
 "nbformat": 4,
 "nbformat_minor": 4
}
