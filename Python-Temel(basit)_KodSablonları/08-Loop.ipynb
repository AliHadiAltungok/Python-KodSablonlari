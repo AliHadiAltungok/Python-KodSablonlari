{
 "cells": [
  {
   "cell_type": "code",
   "execution_count": 1,
   "metadata": {},
   "outputs": [],
   "source": [
    "listem=[1,2,3,4,\"a\"]"
   ]
  },
  {
   "cell_type": "code",
   "execution_count": 3,
   "metadata": {},
   "outputs": [
    {
     "name": "stdout",
     "output_type": "stream",
     "text": [
      "döngü başlıyor\n",
      "1\n",
      "2\n",
      "3\n",
      "4\n",
      "a\n",
      "döngü bitiyor\n"
     ]
    }
   ],
   "source": [
    "print(\"döngü başlıyor\")\n",
    "for number in listem:\n",
    "    print(number)\n",
    "print(\"döngü bitiyor\")"
   ]
  },
  {
   "cell_type": "code",
   "execution_count": 4,
   "metadata": {},
   "outputs": [],
   "source": [
    "yeniListe=[2,6,1,3,8,4]"
   ]
  },
  {
   "cell_type": "code",
   "execution_count": 9,
   "metadata": {},
   "outputs": [
    {
     "name": "stdout",
     "output_type": "stream",
     "text": [
      "2\n",
      "6\n",
      "8\n",
      "4\n"
     ]
    }
   ],
   "source": [
    "for value in yeniListe:\n",
    "    if value%2==0:\n",
    "        print(value)\n"
   ]
  },
  {
   "cell_type": "code",
   "execution_count": 10,
   "metadata": {},
   "outputs": [
    {
     "name": "stdout",
     "output_type": "stream",
     "text": [
      "A\n",
      "l\n",
      "i\n",
      " \n",
      "H\n",
      "a\n",
      "d\n",
      "i\n",
      " \n",
      "A\n",
      "l\n",
      "t\n",
      "u\n",
      "n\n",
      "g\n",
      "o\n",
      "k\n"
     ]
    }
   ],
   "source": [
    "yeniString=\"Ali Hadi Altungok\"\n",
    "for harf in yeniString:\n",
    "    print(harf)"
   ]
  },
  {
   "cell_type": "code",
   "execution_count": 11,
   "metadata": {},
   "outputs": [
    {
     "name": "stdout",
     "output_type": "stream",
     "text": [
      "1\n",
      "5\n",
      "7\n",
      "11\n"
     ]
    }
   ],
   "source": [
    "benimTuple=(1,5,7,11)\n",
    "for asal in benimTuple:\n",
    "    print(asal)"
   ]
  },
  {
   "cell_type": "code",
   "execution_count": 12,
   "metadata": {},
   "outputs": [],
   "source": [
    "koordinatListesi=[(1,50),(6,10),(88,45)]"
   ]
  },
  {
   "cell_type": "code",
   "execution_count": 16,
   "metadata": {},
   "outputs": [
    {
     "name": "stdout",
     "output_type": "stream",
     "text": [
      "(1, 50)\n",
      "(6, 10)\n",
      "(88, 45)\n"
     ]
    }
   ],
   "source": [
    "for koor in koordinatListesi:\n",
    "    print(koor)"
   ]
  },
  {
   "cell_type": "code",
   "execution_count": 17,
   "metadata": {},
   "outputs": [
    {
     "name": "stdout",
     "output_type": "stream",
     "text": [
      "50\n",
      "10\n",
      "45\n"
     ]
    }
   ],
   "source": [
    "for (x,y)in koordinatListesi:\n",
    "    print(y)"
   ]
  },
  {
   "cell_type": "code",
   "execution_count": 18,
   "metadata": {},
   "outputs": [
    {
     "name": "stdout",
     "output_type": "stream",
     "text": [
      "3\n",
      "6\n",
      "9\n"
     ]
    }
   ],
   "source": [
    "garipListe=[(1,2,3),(4,5,6),(7,8,9)]\n",
    "for (x,y,z) in garipListe:\n",
    "    print(z)"
   ]
  },
  {
   "cell_type": "code",
   "execution_count": 19,
   "metadata": {},
   "outputs": [],
   "source": [
    "myDictionary={\"muz\":50,\"portakaş\":80,\"armut\":88}"
   ]
  },
  {
   "cell_type": "code",
   "execution_count": 24,
   "metadata": {},
   "outputs": [
    {
     "data": {
      "text/plain": [
       "dict_items([('muz', 50), ('portakaş', 80), ('armut', 88)])"
      ]
     },
     "execution_count": 24,
     "metadata": {},
     "output_type": "execute_result"
    }
   ],
   "source": [
    "myDictionary.items()"
   ]
  },
  {
   "cell_type": "code",
   "execution_count": null,
   "metadata": {},
   "outputs": [],
   "source": [
    "\n",
    "\n"
   ]
  },
  {
   "cell_type": "code",
   "execution_count": null,
   "metadata": {},
   "outputs": [],
   "source": []
  },
  {
   "cell_type": "code",
   "execution_count": 25,
   "metadata": {},
   "outputs": [],
   "source": [
    "listee=[1,2,3,4]"
   ]
  },
  {
   "cell_type": "code",
   "execution_count": 28,
   "metadata": {},
   "outputs": [],
   "source": [
    "for rkm in listee:\n",
    "    pass\n",
    "##pass koymayınca hata veriyor (continue-break-pass)"
   ]
  },
  {
   "cell_type": "code",
   "execution_count": null,
   "metadata": {},
   "outputs": [],
   "source": []
  },
  {
   "cell_type": "markdown",
   "metadata": {},
   "source": [
    "## while"
   ]
  },
  {
   "cell_type": "code",
   "execution_count": 30,
   "metadata": {},
   "outputs": [
    {
     "name": "stdout",
     "output_type": "stream",
     "text": [
      "0\n",
      "1\n",
      "2\n",
      "3\n",
      "4\n",
      "5\n",
      "6\n",
      "7\n",
      "8\n",
      "9\n",
      "döngü çıkışından sonra x\n",
      "10\n"
     ]
    }
   ],
   "source": [
    "x=0\n",
    "while x<10:\n",
    "    print(x)\n",
    "    x+=1\n",
    "print(\"döngü çıkışından sonra x\")\n",
    "print(x)"
   ]
  },
  {
   "cell_type": "code",
   "execution_count": 31,
   "metadata": {},
   "outputs": [
    {
     "name": "stdout",
     "output_type": "stream",
     "text": [
      "3 hala var\n",
      "3 hala var\n"
     ]
    }
   ],
   "source": [
    "benimListem=[1,2,3,4]\n",
    "while 3 in benimListem:\n",
    "    print(\"3 hala var\")\n",
    "    benimListem.pop()"
   ]
  },
  {
   "cell_type": "code",
   "execution_count": 34,
   "metadata": {},
   "outputs": [
    {
     "name": "stdout",
     "output_type": "stream",
     "text": [
      "yeni degiskenini güncel degeri : 1\n",
      "yeni degiskenini güncel degeri : 2\n",
      "yeni degiskenini güncel degeri : 3\n",
      "yeni degiskenini güncel degeri : 4\n",
      "yeni degiskenini güncel degeri : 5\n",
      "yeni degiskenini güncel degeri : 6\n",
      "yeni degiskenini güncel degeri : 7\n",
      "yeni degiskenini güncel degeri : 8\n",
      "yeni degiskenini güncel degeri : 9\n",
      "yeni degiskenini güncel degeri : 10\n",
      "yeni degiskenini güncel degeri : 11\n",
      "yeni degiskenini güncel degeri : 12\n",
      "yeni degiskenini güncel degeri : 13\n",
      "yeni degiskenini güncel degeri : 14\n",
      "yeni degiskenini güncel degeri : 15\n"
     ]
    }
   ],
   "source": [
    "yeniDegisken=0\n",
    "while yeniDegisken<15:\n",
    "    yeniDegisken+=1\n",
    "    #print(\"yeni degiskeniin guncel degeri : \" + str(yeniDegisken))\n",
    "    print(f\"yeni degiskenini güncel degeri : {yeniDegisken}\")"
   ]
  },
  {
   "cell_type": "code",
   "execution_count": null,
   "metadata": {},
   "outputs": [],
   "source": []
  }
 ],
 "metadata": {
  "kernelspec": {
   "display_name": "Python 3",
   "language": "python",
   "name": "python3"
  },
  "language_info": {
   "codemirror_mode": {
    "name": "ipython",
    "version": 3
   },
   "file_extension": ".py",
   "mimetype": "text/x-python",
   "name": "python",
   "nbconvert_exporter": "python",
   "pygments_lexer": "ipython3",
   "version": "3.8.3"
  }
 },
 "nbformat": 4,
 "nbformat_minor": 4
}
