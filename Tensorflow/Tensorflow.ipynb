{
 "cells": [
  {
   "cell_type": "code",
   "execution_count": 1,
   "metadata": {
    "executionInfo": {
     "elapsed": 3965,
     "status": "ok",
     "timestamp": 1607593191603,
     "user": {
      "displayName": "Ali",
      "photoUrl": "",
      "userId": "07288539986452754270"
     },
     "user_tz": -180
    },
    "id": "sYlasyvXBgYl"
   },
   "outputs": [],
   "source": [
    "import pandas as pd\n",
    "import numpy as np\n",
    "import matplotlib.pyplot as plt\n",
    "from sklearn.model_selection import train_test_split\n",
    "from sklearn.preprocessing import MinMaxScaler\n",
    "import tensorflow as tf\n",
    "from tensorflow.keras.models import Sequential\n",
    "from tensorflow.keras.layers import Dense"
   ]
  },
  {
   "cell_type": "code",
   "execution_count": 2,
   "metadata": {
    "colab": {
     "base_uri": "https://localhost:8080/",
     "height": 323
    },
    "executionInfo": {
     "elapsed": 2247,
     "status": "error",
     "timestamp": 1607593194547,
     "user": {
      "displayName": "Ali",
      "photoUrl": "",
      "userId": "07288539986452754270"
     },
     "user_tz": -180
    },
    "id": "ZAsreYbVCq6k",
    "outputId": "66d7f536-376a-435b-f7c3-79021ba14e9d"
   },
   "outputs": [],
   "source": [
    "data=pd.read_excel(\"bisiklet_fiyatlari.xlsx\")"
   ]
  },
  {
   "cell_type": "code",
   "execution_count": null,
   "metadata": {
    "id": "Q6PGuy93BJUy"
   },
   "outputs": [],
   "source": []
  },
  {
   "cell_type": "code",
   "execution_count": 3,
   "metadata": {
    "id": "86awDJwIDQSq"
   },
   "outputs": [],
   "source": [
    "x=data[[\"BisikletOzellik1\",\"BisikletOzellik2\"]].values"
   ]
  },
  {
   "cell_type": "code",
   "execution_count": 4,
   "metadata": {
    "id": "ubLWCNiHDQ-y"
   },
   "outputs": [],
   "source": [
    "y=data[\"Fiyat\"].values"
   ]
  },
  {
   "cell_type": "code",
   "execution_count": 5,
   "metadata": {
    "id": "xEqNgGLLDcFC"
   },
   "outputs": [],
   "source": [
    "x_train,x_test,y_train,y_test=train_test_split(x,y,test_size=0.33,random_state=15)"
   ]
  },
  {
   "cell_type": "code",
   "execution_count": 6,
   "metadata": {
    "colab": {
     "base_uri": "https://localhost:8080/",
     "height": 34
    },
    "executionInfo": {
     "elapsed": 699,
     "status": "ok",
     "timestamp": 1600886772214,
     "user": {
      "displayName": "Ali",
      "photoUrl": "",
      "userId": "07288539986452754270"
     },
     "user_tz": -180
    },
    "id": "U4PV7zoDDcsi",
    "outputId": "8ed1cc21-700f-499c-f223-430fcff9eadf"
   },
   "outputs": [
    {
     "data": {
      "text/plain": [
       "MinMaxScaler()"
      ]
     },
     "execution_count": 6,
     "metadata": {},
     "output_type": "execute_result"
    }
   ],
   "source": [
    "scaler=MinMaxScaler()\n",
    "scaler.fit(x_train)"
   ]
  },
  {
   "cell_type": "code",
   "execution_count": 7,
   "metadata": {
    "id": "EZMzvsY2DeAy"
   },
   "outputs": [],
   "source": [
    "x_train=scaler.transform(x_train)\n",
    "x_test=scaler.transform(x_test)"
   ]
  },
  {
   "cell_type": "code",
   "execution_count": 8,
   "metadata": {
    "id": "kPqeM3Q4DuKq"
   },
   "outputs": [],
   "source": [
    "model=Sequential()\n",
    "\n",
    "model.add(Dense(4,activation=\"relu\"))\n",
    "model.add(Dense(4,activation=\"relu\"))\n",
    "model.add(Dense(4,activation=\"relu\"))\n",
    "\n",
    "model.add(Dense(1))\n",
    "\n",
    "model.compile(optimizer=\"rmsprop\",loss=\"mse\")"
   ]
  },
  {
   "cell_type": "code",
   "execution_count": 9,
   "metadata": {
    "colab": {
     "base_uri": "https://localhost:8080/",
     "height": 1000
    },
    "executionInfo": {
     "elapsed": 8951,
     "status": "ok",
     "timestamp": 1600886830084,
     "user": {
      "displayName": "Ali",
      "photoUrl": "",
      "userId": "07288539986452754270"
     },
     "user_tz": -180
    },
    "id": "xXoHRnrXDwmy",
    "outputId": "a9f85c37-cd36-4fee-9fb0-ddf40cd7d7cc"
   },
   "outputs": [
    {
     "name": "stdout",
     "output_type": "stream",
     "text": [
      "Epoch 1/250\n",
      "21/21 [==============================] - 0s 1ms/step - loss: 795837.2500\n",
      "Epoch 2/250\n",
      "21/21 [==============================] - 0s 1ms/step - loss: 795702.1875\n",
      "Epoch 3/250\n",
      "21/21 [==============================] - 0s 1ms/step - loss: 795572.1875\n",
      "Epoch 4/250\n",
      "21/21 [==============================] - 0s 1ms/step - loss: 795435.5000\n",
      "Epoch 5/250\n",
      "21/21 [==============================] - 0s 1ms/step - loss: 795287.2500\n",
      "Epoch 6/250\n",
      "21/21 [==============================] - 0s 1ms/step - loss: 795113.8125\n",
      "Epoch 7/250\n",
      "21/21 [==============================] - 0s 2ms/step - loss: 794906.5625\n",
      "Epoch 8/250\n",
      "21/21 [==============================] - 0s 1ms/step - loss: 794660.7500\n",
      "Epoch 9/250\n",
      "21/21 [==============================] - 0s 1ms/step - loss: 794366.8750\n",
      "Epoch 10/250\n",
      "21/21 [==============================] - 0s 1ms/step - loss: 794013.0625\n",
      "Epoch 11/250\n",
      "21/21 [==============================] - 0s 1ms/step - loss: 793590.7500\n",
      "Epoch 12/250\n",
      "21/21 [==============================] - 0s 1ms/step - loss: 793094.1875\n",
      "Epoch 13/250\n",
      "21/21 [==============================] - 0s 1ms/step - loss: 792513.3750\n",
      "Epoch 14/250\n",
      "21/21 [==============================] - 0s 1ms/step - loss: 791845.0625\n",
      "Epoch 15/250\n",
      "21/21 [==============================] - 0s 1ms/step - loss: 791083.6250\n",
      "Epoch 16/250\n",
      "21/21 [==============================] - 0s 1ms/step - loss: 790223.5000\n",
      "Epoch 17/250\n",
      "21/21 [==============================] - 0s 1ms/step - loss: 789264.8750\n",
      "Epoch 18/250\n",
      "21/21 [==============================] - 0s 1ms/step - loss: 788197.0000\n",
      "Epoch 19/250\n",
      "21/21 [==============================] - 0s 1ms/step - loss: 787011.6875\n",
      "Epoch 20/250\n",
      "21/21 [==============================] - 0s 1ms/step - loss: 785707.6250\n",
      "Epoch 21/250\n",
      "21/21 [==============================] - 0s 1ms/step - loss: 784280.3750\n",
      "Epoch 22/250\n",
      "21/21 [==============================] - 0s 1ms/step - loss: 782710.3125\n",
      "Epoch 23/250\n",
      "21/21 [==============================] - 0s 1ms/step - loss: 781001.5625\n",
      "Epoch 24/250\n",
      "21/21 [==============================] - 0s 2ms/step - loss: 779145.6250\n",
      "Epoch 25/250\n",
      "21/21 [==============================] - 0s 1ms/step - loss: 777123.4375\n",
      "Epoch 26/250\n",
      "21/21 [==============================] - 0s 1ms/step - loss: 774932.1875\n",
      "Epoch 27/250\n",
      "21/21 [==============================] - 0s 1ms/step - loss: 772572.9375\n",
      "Epoch 28/250\n",
      "21/21 [==============================] - 0s 1ms/step - loss: 770030.4375\n",
      "Epoch 29/250\n",
      "21/21 [==============================] - 0s 1ms/step - loss: 767306.8750\n",
      "Epoch 30/250\n",
      "21/21 [==============================] - 0s 2ms/step - loss: 764377.8750\n",
      "Epoch 31/250\n",
      "21/21 [==============================] - 0s 1ms/step - loss: 761234.3125\n",
      "Epoch 32/250\n",
      "21/21 [==============================] - 0s 2ms/step - loss: 757880.6875\n",
      "Epoch 33/250\n",
      "21/21 [==============================] - 0s 2ms/step - loss: 754324.0625\n",
      "Epoch 34/250\n",
      "21/21 [==============================] - 0s 2ms/step - loss: 750511.1875\n",
      "Epoch 35/250\n",
      "21/21 [==============================] - 0s 2ms/step - loss: 746470.1250\n",
      "Epoch 36/250\n",
      "21/21 [==============================] - 0s 1ms/step - loss: 742175.0625\n",
      "Epoch 37/250\n",
      "21/21 [==============================] - 0s 2ms/step - loss: 737644.8750\n",
      "Epoch 38/250\n",
      "21/21 [==============================] - 0s 2ms/step - loss: 732831.0000\n",
      "Epoch 39/250\n",
      "21/21 [==============================] - 0s 1ms/step - loss: 727745.0000\n",
      "Epoch 40/250\n",
      "21/21 [==============================] - 0s 2ms/step - loss: 722408.3750\n",
      "Epoch 41/250\n",
      "21/21 [==============================] - 0s 1ms/step - loss: 716778.3750\n",
      "Epoch 42/250\n",
      "21/21 [==============================] - 0s 1ms/step - loss: 710842.0625\n",
      "Epoch 43/250\n",
      "21/21 [==============================] - 0s 1ms/step - loss: 704601.1875\n",
      "Epoch 44/250\n",
      "21/21 [==============================] - 0s 1ms/step - loss: 698075.8750\n",
      "Epoch 45/250\n",
      "21/21 [==============================] - 0s 1ms/step - loss: 691181.8750\n",
      "Epoch 46/250\n",
      "21/21 [==============================] - 0s 1ms/step - loss: 683998.5625\n",
      "Epoch 47/250\n",
      "21/21 [==============================] - 0s 1ms/step - loss: 676530.7500\n",
      "Epoch 48/250\n",
      "21/21 [==============================] - 0s 1ms/step - loss: 668685.5625\n",
      "Epoch 49/250\n",
      "21/21 [==============================] - 0s 1ms/step - loss: 660517.7500\n",
      "Epoch 50/250\n",
      "21/21 [==============================] - 0s 1ms/step - loss: 651992.0625\n",
      "Epoch 51/250\n",
      "21/21 [==============================] - 0s 1ms/step - loss: 643141.3750\n",
      "Epoch 52/250\n",
      "21/21 [==============================] - 0s 1ms/step - loss: 633907.9375\n",
      "Epoch 53/250\n",
      "21/21 [==============================] - 0s 1ms/step - loss: 624377.1875\n",
      "Epoch 54/250\n",
      "21/21 [==============================] - 0s 999us/step - loss: 614473.4375\n",
      "Epoch 55/250\n",
      "21/21 [==============================] - 0s 1ms/step - loss: 604187.0625\n",
      "Epoch 56/250\n",
      "21/21 [==============================] - 0s 1ms/step - loss: 593486.6250\n",
      "Epoch 57/250\n",
      "21/21 [==============================] - 0s 1ms/step - loss: 582484.7500\n",
      "Epoch 58/250\n",
      "21/21 [==============================] - 0s 1ms/step - loss: 571154.9375\n",
      "Epoch 59/250\n",
      "21/21 [==============================] - 0s 1ms/step - loss: 559508.5000\n",
      "Epoch 60/250\n",
      "21/21 [==============================] - 0s 1ms/step - loss: 547474.5000\n",
      "Epoch 61/250\n",
      "21/21 [==============================] - 0s 1ms/step - loss: 535043.3125\n",
      "Epoch 62/250\n",
      "21/21 [==============================] - 0s 1ms/step - loss: 522306.6250\n",
      "Epoch 63/250\n",
      "21/21 [==============================] - 0s 1ms/step - loss: 509253.3125\n",
      "Epoch 64/250\n",
      "21/21 [==============================] - 0s 1ms/step - loss: 495813.7188\n",
      "Epoch 65/250\n",
      "21/21 [==============================] - 0s 1ms/step - loss: 482012.9062\n",
      "Epoch 66/250\n",
      "21/21 [==============================] - 0s 1ms/step - loss: 467956.7812\n",
      "Epoch 67/250\n",
      "21/21 [==============================] - 0s 1ms/step - loss: 453650.3750\n",
      "Epoch 68/250\n",
      "21/21 [==============================] - 0s 1ms/step - loss: 439043.2812\n",
      "Epoch 69/250\n",
      "21/21 [==============================] - 0s 1ms/step - loss: 424156.5938\n",
      "Epoch 70/250\n",
      "21/21 [==============================] - 0s 1ms/step - loss: 409052.2812\n",
      "Epoch 71/250\n",
      "21/21 [==============================] - 0s 999us/step - loss: 393596.8125\n",
      "Epoch 72/250\n",
      "21/21 [==============================] - 0s 1ms/step - loss: 377951.4375\n",
      "Epoch 73/250\n",
      "21/21 [==============================] - 0s 1ms/step - loss: 362107.4688\n",
      "Epoch 74/250\n",
      "21/21 [==============================] - 0s 904us/step - loss: 346099.8125\n",
      "Epoch 75/250\n",
      "21/21 [==============================] - 0s 1ms/step - loss: 329989.0000\n",
      "Epoch 76/250\n",
      "21/21 [==============================] - 0s 1ms/step - loss: 313724.1562\n",
      "Epoch 77/250\n",
      "21/21 [==============================] - 0s 1ms/step - loss: 297372.0000\n",
      "Epoch 78/250\n",
      "21/21 [==============================] - 0s 1ms/step - loss: 281004.0625\n",
      "Epoch 79/250\n",
      "21/21 [==============================] - 0s 1ms/step - loss: 264594.3750\n",
      "Epoch 80/250\n",
      "21/21 [==============================] - 0s 999us/step - loss: 248195.2031\n",
      "Epoch 81/250\n",
      "21/21 [==============================] - 0s 1ms/step - loss: 231849.9844\n",
      "Epoch 82/250\n",
      "21/21 [==============================] - 0s 1ms/step - loss: 215733.2344\n",
      "Epoch 83/250\n",
      "21/21 [==============================] - 0s 999us/step - loss: 199616.9844\n",
      "Epoch 84/250\n",
      "21/21 [==============================] - 0s 1ms/step - loss: 183702.1875\n",
      "Epoch 85/250\n",
      "21/21 [==============================] - 0s 1ms/step - loss: 168135.5625\n",
      "Epoch 86/250\n",
      "21/21 [==============================] - 0s 1ms/step - loss: 152829.8438\n",
      "Epoch 87/250\n",
      "21/21 [==============================] - 0s 1ms/step - loss: 137936.5781\n",
      "Epoch 88/250\n",
      "21/21 [==============================] - 0s 1ms/step - loss: 123439.4297\n",
      "Epoch 89/250\n",
      "21/21 [==============================] - 0s 1ms/step - loss: 109453.0000\n",
      "Epoch 90/250\n",
      "21/21 [==============================] - 0s 1ms/step - loss: 96091.3906\n",
      "Epoch 91/250\n",
      "21/21 [==============================] - 0s 1ms/step - loss: 83291.6094\n",
      "Epoch 92/250\n",
      "21/21 [==============================] - 0s 1ms/step - loss: 71367.5391\n",
      "Epoch 93/250\n",
      "21/21 [==============================] - 0s 1ms/step - loss: 60170.6328\n",
      "Epoch 94/250\n",
      "21/21 [==============================] - 0s 2ms/step - loss: 49835.4375\n",
      "Epoch 95/250\n",
      "21/21 [==============================] - 0s 2ms/step - loss: 40454.5391\n",
      "Epoch 96/250\n"
     ]
    },
    {
     "name": "stdout",
     "output_type": "stream",
     "text": [
      "21/21 [==============================] - 0s 1ms/step - loss: 32201.7500\n",
      "Epoch 97/250\n",
      "21/21 [==============================] - 0s 2ms/step - loss: 25024.1934\n",
      "Epoch 98/250\n",
      "21/21 [==============================] - 0s 1ms/step - loss: 19132.3281\n",
      "Epoch 99/250\n",
      "21/21 [==============================] - 0s 1ms/step - loss: 14460.6982\n",
      "Epoch 100/250\n",
      "21/21 [==============================] - 0s 1ms/step - loss: 11064.6133\n",
      "Epoch 101/250\n",
      "21/21 [==============================] - 0s 1ms/step - loss: 8984.7178\n",
      "Epoch 102/250\n",
      "21/21 [==============================] - 0s 1ms/step - loss: 8034.0244\n",
      "Epoch 103/250\n",
      "21/21 [==============================] - 0s 1ms/step - loss: 7745.0596\n",
      "Epoch 104/250\n",
      "21/21 [==============================] - 0s 952us/step - loss: 7628.1147\n",
      "Epoch 105/250\n",
      "21/21 [==============================] - 0s 952us/step - loss: 7536.2075\n",
      "Epoch 106/250\n",
      "21/21 [==============================] - 0s 1ms/step - loss: 7437.6240\n",
      "Epoch 107/250\n",
      "21/21 [==============================] - 0s 999us/step - loss: 7318.9692\n",
      "Epoch 108/250\n",
      "21/21 [==============================] - 0s 952us/step - loss: 7230.4561\n",
      "Epoch 109/250\n",
      "21/21 [==============================] - 0s 1ms/step - loss: 7123.0000\n",
      "Epoch 110/250\n",
      "21/21 [==============================] - 0s 1ms/step - loss: 7009.7021\n",
      "Epoch 111/250\n",
      "21/21 [==============================] - 0s 1ms/step - loss: 6897.3306\n",
      "Epoch 112/250\n",
      "21/21 [==============================] - 0s 1ms/step - loss: 6765.7080\n",
      "Epoch 113/250\n",
      "21/21 [==============================] - 0s 1ms/step - loss: 6676.7539\n",
      "Epoch 114/250\n",
      "21/21 [==============================] - 0s 1ms/step - loss: 6573.3154\n",
      "Epoch 115/250\n",
      "21/21 [==============================] - 0s 1ms/step - loss: 6471.8589\n",
      "Epoch 116/250\n",
      "21/21 [==============================] - 0s 1ms/step - loss: 6379.6187\n",
      "Epoch 117/250\n",
      "21/21 [==============================] - 0s 1ms/step - loss: 6271.0874\n",
      "Epoch 118/250\n",
      "21/21 [==============================] - 0s 1ms/step - loss: 6175.9663\n",
      "Epoch 119/250\n",
      "21/21 [==============================] - 0s 999us/step - loss: 6081.0371\n",
      "Epoch 120/250\n",
      "21/21 [==============================] - 0s 1ms/step - loss: 5961.1870\n",
      "Epoch 121/250\n",
      "21/21 [==============================] - 0s 1ms/step - loss: 5861.4517\n",
      "Epoch 122/250\n",
      "21/21 [==============================] - 0s 1ms/step - loss: 5765.2134\n",
      "Epoch 123/250\n",
      "21/21 [==============================] - 0s 1ms/step - loss: 5650.7393\n",
      "Epoch 124/250\n",
      "21/21 [==============================] - 0s 1ms/step - loss: 5560.0742\n",
      "Epoch 125/250\n",
      "21/21 [==============================] - 0s 1ms/step - loss: 5469.4395\n",
      "Epoch 126/250\n",
      "21/21 [==============================] - 0s 1ms/step - loss: 5370.9312\n",
      "Epoch 127/250\n",
      "21/21 [==============================] - 0s 999us/step - loss: 5269.4766\n",
      "Epoch 128/250\n",
      "21/21 [==============================] - 0s 1ms/step - loss: 5184.1187\n",
      "Epoch 129/250\n",
      "21/21 [==============================] - 0s 999us/step - loss: 5095.7969\n",
      "Epoch 130/250\n",
      "21/21 [==============================] - 0s 1ms/step - loss: 5000.5352\n",
      "Epoch 131/250\n",
      "21/21 [==============================] - 0s 1ms/step - loss: 4898.1216\n",
      "Epoch 132/250\n",
      "21/21 [==============================] - 0s 1ms/step - loss: 4813.6768\n",
      "Epoch 133/250\n",
      "21/21 [==============================] - 0s 1ms/step - loss: 4718.8398\n",
      "Epoch 134/250\n",
      "21/21 [==============================] - 0s 1ms/step - loss: 4609.6938\n",
      "Epoch 135/250\n",
      "21/21 [==============================] - 0s 999us/step - loss: 4501.8193\n",
      "Epoch 136/250\n",
      "21/21 [==============================] - 0s 1ms/step - loss: 4419.0796\n",
      "Epoch 137/250\n",
      "21/21 [==============================] - 0s 999us/step - loss: 4318.9448\n",
      "Epoch 138/250\n",
      "21/21 [==============================] - 0s 1ms/step - loss: 4223.9551\n",
      "Epoch 139/250\n",
      "21/21 [==============================] - 0s 1ms/step - loss: 4139.6699\n",
      "Epoch 140/250\n",
      "21/21 [==============================] - 0s 1ms/step - loss: 4059.0115\n",
      "Epoch 141/250\n",
      "21/21 [==============================] - 0s 1ms/step - loss: 3973.1934\n",
      "Epoch 142/250\n",
      "21/21 [==============================] - 0s 1ms/step - loss: 3899.0742\n",
      "Epoch 143/250\n",
      "21/21 [==============================] - 0s 1ms/step - loss: 3818.2629\n",
      "Epoch 144/250\n",
      "21/21 [==============================] - 0s 1ms/step - loss: 3734.8862\n",
      "Epoch 145/250\n",
      "21/21 [==============================] - 0s 1ms/step - loss: 3649.6187\n",
      "Epoch 146/250\n",
      "21/21 [==============================] - 0s 1ms/step - loss: 3560.8115\n",
      "Epoch 147/250\n",
      "21/21 [==============================] - 0s 1ms/step - loss: 3478.8059\n",
      "Epoch 148/250\n",
      "21/21 [==============================] - 0s 1ms/step - loss: 3391.0320\n",
      "Epoch 149/250\n",
      "21/21 [==============================] - 0s 999us/step - loss: 3302.3889\n",
      "Epoch 150/250\n",
      "21/21 [==============================] - 0s 1ms/step - loss: 3223.3877\n",
      "Epoch 151/250\n",
      "21/21 [==============================] - 0s 1ms/step - loss: 3148.3660\n",
      "Epoch 152/250\n",
      "21/21 [==============================] - 0s 999us/step - loss: 3061.3469\n",
      "Epoch 153/250\n",
      "21/21 [==============================] - 0s 1ms/step - loss: 2984.2588\n",
      "Epoch 154/250\n",
      "21/21 [==============================] - 0s 1ms/step - loss: 2908.8723\n",
      "Epoch 155/250\n",
      "21/21 [==============================] - 0s 1ms/step - loss: 2839.8184\n",
      "Epoch 156/250\n",
      "21/21 [==============================] - 0s 1ms/step - loss: 2764.9236\n",
      "Epoch 157/250\n",
      "21/21 [==============================] - 0s 1ms/step - loss: 2692.0361\n",
      "Epoch 158/250\n",
      "21/21 [==============================] - 0s 1ms/step - loss: 2619.9307\n",
      "Epoch 159/250\n",
      "21/21 [==============================] - 0s 999us/step - loss: 2548.9231\n",
      "Epoch 160/250\n",
      "21/21 [==============================] - 0s 1ms/step - loss: 2479.3787\n",
      "Epoch 161/250\n",
      "21/21 [==============================] - 0s 1ms/step - loss: 2409.2126\n",
      "Epoch 162/250\n",
      "21/21 [==============================] - 0s 999us/step - loss: 2339.8494\n",
      "Epoch 163/250\n",
      "21/21 [==============================] - 0s 1ms/step - loss: 2270.0784\n",
      "Epoch 164/250\n",
      "21/21 [==============================] - 0s 1ms/step - loss: 2205.3655\n",
      "Epoch 165/250\n",
      "21/21 [==============================] - 0s 1ms/step - loss: 2135.6714\n",
      "Epoch 166/250\n",
      "21/21 [==============================] - 0s 1ms/step - loss: 2069.7549\n",
      "Epoch 167/250\n",
      "21/21 [==============================] - 0s 1ms/step - loss: 1993.1578\n",
      "Epoch 168/250\n",
      "21/21 [==============================] - 0s 1ms/step - loss: 1931.6578\n",
      "Epoch 169/250\n",
      "21/21 [==============================] - 0s 1ms/step - loss: 1864.3979\n",
      "Epoch 170/250\n",
      "21/21 [==============================] - 0s 999us/step - loss: 1798.5237\n",
      "Epoch 171/250\n",
      "21/21 [==============================] - 0s 1ms/step - loss: 1736.7638\n",
      "Epoch 172/250\n",
      "21/21 [==============================] - 0s 1ms/step - loss: 1682.1006\n",
      "Epoch 173/250\n",
      "21/21 [==============================] - 0s 1ms/step - loss: 1620.0599\n",
      "Epoch 174/250\n",
      "21/21 [==============================] - 0s 1ms/step - loss: 1561.2065\n",
      "Epoch 175/250\n",
      "21/21 [==============================] - 0s 1ms/step - loss: 1498.4551\n",
      "Epoch 176/250\n",
      "21/21 [==============================] - 0s 1ms/step - loss: 1438.1599\n",
      "Epoch 177/250\n",
      "21/21 [==============================] - 0s 999us/step - loss: 1397.3871\n",
      "Epoch 178/250\n",
      "21/21 [==============================] - 0s 999us/step - loss: 1337.4934\n",
      "Epoch 179/250\n",
      "21/21 [==============================] - 0s 952us/step - loss: 1291.8278\n",
      "Epoch 180/250\n",
      "21/21 [==============================] - 0s 1ms/step - loss: 1234.9883\n",
      "Epoch 181/250\n",
      "21/21 [==============================] - 0s 999us/step - loss: 1198.9492\n",
      "Epoch 182/250\n",
      "21/21 [==============================] - 0s 1ms/step - loss: 1146.8451\n",
      "Epoch 183/250\n",
      "21/21 [==============================] - 0s 1ms/step - loss: 1104.3473\n",
      "Epoch 184/250\n",
      "21/21 [==============================] - 0s 999us/step - loss: 1058.0596\n",
      "Epoch 185/250\n",
      "21/21 [==============================] - 0s 1ms/step - loss: 1011.9188\n",
      "Epoch 186/250\n",
      "21/21 [==============================] - 0s 999us/step - loss: 978.1425\n",
      "Epoch 187/250\n",
      "21/21 [==============================] - 0s 1ms/step - loss: 928.7305\n",
      "Epoch 188/250\n",
      "21/21 [==============================] - 0s 999us/step - loss: 894.8553\n",
      "Epoch 189/250\n",
      "21/21 [==============================] - 0s 1ms/step - loss: 851.8736\n",
      "Epoch 190/250\n",
      "21/21 [==============================] - 0s 1ms/step - loss: 819.3747\n",
      "Epoch 191/250\n",
      "21/21 [==============================] - 0s 1ms/step - loss: 775.7770\n",
      "Epoch 192/250\n"
     ]
    },
    {
     "name": "stdout",
     "output_type": "stream",
     "text": [
      "21/21 [==============================] - 0s 1ms/step - loss: 731.2428\n",
      "Epoch 193/250\n",
      "21/21 [==============================] - 0s 1ms/step - loss: 697.0908\n",
      "Epoch 194/250\n",
      "21/21 [==============================] - 0s 1ms/step - loss: 660.3300\n",
      "Epoch 195/250\n",
      "21/21 [==============================] - 0s 999us/step - loss: 622.5222\n",
      "Epoch 196/250\n",
      "21/21 [==============================] - 0s 999us/step - loss: 595.2260\n",
      "Epoch 197/250\n",
      "21/21 [==============================] - 0s 1ms/step - loss: 558.4653\n",
      "Epoch 198/250\n",
      "21/21 [==============================] - 0s 1ms/step - loss: 530.2589\n",
      "Epoch 199/250\n",
      "21/21 [==============================] - 0s 952us/step - loss: 496.8662\n",
      "Epoch 200/250\n",
      "21/21 [==============================] - 0s 1ms/step - loss: 469.3655\n",
      "Epoch 201/250\n",
      "21/21 [==============================] - 0s 1ms/step - loss: 437.9839\n",
      "Epoch 202/250\n",
      "21/21 [==============================] - 0s 1ms/step - loss: 408.4447\n",
      "Epoch 203/250\n",
      "21/21 [==============================] - 0s 1ms/step - loss: 379.2112\n",
      "Epoch 204/250\n",
      "21/21 [==============================] - 0s 1ms/step - loss: 356.9619\n",
      "Epoch 205/250\n",
      "21/21 [==============================] - 0s 999us/step - loss: 329.9547\n",
      "Epoch 206/250\n",
      "21/21 [==============================] - 0s 1ms/step - loss: 307.4490\n",
      "Epoch 207/250\n",
      "21/21 [==============================] - 0s 1ms/step - loss: 285.8469\n",
      "Epoch 208/250\n",
      "21/21 [==============================] - 0s 999us/step - loss: 266.5279\n",
      "Epoch 209/250\n",
      "21/21 [==============================] - 0s 1ms/step - loss: 245.9702\n",
      "Epoch 210/250\n",
      "21/21 [==============================] - 0s 1ms/step - loss: 230.0229\n",
      "Epoch 211/250\n",
      "21/21 [==============================] - 0s 1ms/step - loss: 214.5569\n",
      "Epoch 212/250\n",
      "21/21 [==============================] - 0s 1ms/step - loss: 200.8878\n",
      "Epoch 213/250\n",
      "21/21 [==============================] - 0s 1ms/step - loss: 187.9583\n",
      "Epoch 214/250\n",
      "21/21 [==============================] - 0s 1ms/step - loss: 175.6616\n",
      "Epoch 215/250\n",
      "21/21 [==============================] - 0s 1ms/step - loss: 164.9061\n",
      "Epoch 216/250\n",
      "21/21 [==============================] - 0s 1ms/step - loss: 155.6979\n",
      "Epoch 217/250\n",
      "21/21 [==============================] - 0s 1ms/step - loss: 145.2647\n",
      "Epoch 218/250\n",
      "21/21 [==============================] - 0s 1ms/step - loss: 137.6316\n",
      "Epoch 219/250\n",
      "21/21 [==============================] - 0s 999us/step - loss: 128.7454\n",
      "Epoch 220/250\n",
      "21/21 [==============================] - 0s 1ms/step - loss: 120.9546\n",
      "Epoch 221/250\n",
      "21/21 [==============================] - 0s 1ms/step - loss: 113.4418\n",
      "Epoch 222/250\n",
      "21/21 [==============================] - 0s 1ms/step - loss: 108.3063\n",
      "Epoch 223/250\n",
      "21/21 [==============================] - 0s 999us/step - loss: 102.2604\n",
      "Epoch 224/250\n",
      "21/21 [==============================] - 0s 1ms/step - loss: 96.4085\n",
      "Epoch 225/250\n",
      "21/21 [==============================] - 0s 1ms/step - loss: 95.3041\n",
      "Epoch 226/250\n",
      "21/21 [==============================] - 0s 1ms/step - loss: 92.1009\n",
      "Epoch 227/250\n",
      "21/21 [==============================] - 0s 999us/step - loss: 89.4212\n",
      "Epoch 228/250\n",
      "21/21 [==============================] - 0s 1ms/step - loss: 87.8396\n",
      "Epoch 229/250\n",
      "21/21 [==============================] - 0s 1ms/step - loss: 84.9845\n",
      "Epoch 230/250\n",
      "21/21 [==============================] - 0s 1ms/step - loss: 84.3818\n",
      "Epoch 231/250\n",
      "21/21 [==============================] - 0s 1ms/step - loss: 82.5115\n",
      "Epoch 232/250\n",
      "21/21 [==============================] - 0s 1ms/step - loss: 82.4643\n",
      "Epoch 233/250\n",
      "21/21 [==============================] - 0s 1ms/step - loss: 79.5914\n",
      "Epoch 234/250\n",
      "21/21 [==============================] - 0s 1ms/step - loss: 79.7594\n",
      "Epoch 235/250\n",
      "21/21 [==============================] - 0s 1ms/step - loss: 77.4378\n",
      "Epoch 236/250\n",
      "21/21 [==============================] - 0s 1ms/step - loss: 77.2007\n",
      "Epoch 237/250\n",
      "21/21 [==============================] - 0s 1ms/step - loss: 77.1105\n",
      "Epoch 238/250\n",
      "21/21 [==============================] - 0s 1ms/step - loss: 77.6449\n",
      "Epoch 239/250\n",
      "21/21 [==============================] - 0s 2ms/step - loss: 77.0088\n",
      "Epoch 240/250\n",
      "21/21 [==============================] - 0s 2ms/step - loss: 75.2981\n",
      "Epoch 241/250\n",
      "21/21 [==============================] - 0s 2ms/step - loss: 76.1932\n",
      "Epoch 242/250\n",
      "21/21 [==============================] - 0s 2ms/step - loss: 76.5720\n",
      "Epoch 243/250\n",
      "21/21 [==============================] - 0s 2ms/step - loss: 76.2672\n",
      "Epoch 244/250\n",
      "21/21 [==============================] - 0s 2ms/step - loss: 75.7032\n",
      "Epoch 245/250\n",
      "21/21 [==============================] - 0s 2ms/step - loss: 74.5824\n",
      "Epoch 246/250\n",
      "21/21 [==============================] - 0s 2ms/step - loss: 75.3840\n",
      "Epoch 247/250\n",
      "21/21 [==============================] - 0s 2ms/step - loss: 75.0700\n",
      "Epoch 248/250\n",
      "21/21 [==============================] - 0s 1ms/step - loss: 74.7356\n",
      "Epoch 249/250\n",
      "21/21 [==============================] - 0s 1ms/step - loss: 75.6107\n",
      "Epoch 250/250\n",
      "21/21 [==============================] - 0s 1ms/step - loss: 75.0949\n"
     ]
    },
    {
     "data": {
      "text/plain": [
       "<tensorflow.python.keras.callbacks.History at 0x1e5179887c0>"
      ]
     },
     "execution_count": 9,
     "metadata": {},
     "output_type": "execute_result"
    }
   ],
   "source": [
    "model.fit(x_train,y_train,epochs=250)"
   ]
  },
  {
   "cell_type": "code",
   "execution_count": 10,
   "metadata": {
    "colab": {
     "base_uri": "https://localhost:8080/",
     "height": 34
    },
    "executionInfo": {
     "elapsed": 1319,
     "status": "ok",
     "timestamp": 1600886840068,
     "user": {
      "displayName": "Ali",
      "photoUrl": "",
      "userId": "07288539986452754270"
     },
     "user_tz": -180
    },
    "id": "doEUSpC1D0zS",
    "outputId": "b5f36aa3-84cc-45a2-f9c6-6cab8ed0e7cd"
   },
   "outputs": [
    {
     "data": {
      "text/plain": [
       "dict_keys(['loss'])"
      ]
     },
     "execution_count": 10,
     "metadata": {},
     "output_type": "execute_result"
    }
   ],
   "source": [
    "model.history.history.keys()##dictionary çeviriyo"
   ]
  },
  {
   "cell_type": "code",
   "execution_count": 11,
   "metadata": {
    "id": "iXjnrvZRJTYZ"
   },
   "outputs": [],
   "source": [
    "loss=model.history.history[\"loss\"]"
   ]
  },
  {
   "cell_type": "code",
   "execution_count": 12,
   "metadata": {
    "id": "WnoYmqFwIwjh"
   },
   "outputs": [],
   "source": [
    "import seaborn as sbn"
   ]
  },
  {
   "cell_type": "code",
   "execution_count": 13,
   "metadata": {
    "colab": {
     "base_uri": "https://localhost:8080/",
     "height": 282
    },
    "executionInfo": {
     "elapsed": 863,
     "status": "ok",
     "timestamp": 1600886847172,
     "user": {
      "displayName": "Ali",
      "photoUrl": "",
      "userId": "07288539986452754270"
     },
     "user_tz": -180
    },
    "id": "VRT5ZS1WJFDP",
    "outputId": "f274e7af-3c41-4874-a3ec-0b274f4ea101"
   },
   "outputs": [
    {
     "data": {
      "text/plain": [
       "<matplotlib.axes._subplots.AxesSubplot at 0x1e519f43be0>"
      ]
     },
     "execution_count": 13,
     "metadata": {},
     "output_type": "execute_result"
    },
    {
     "data": {
      "image/png": "[encoded data removed]",
      "text/plain": [
       "<Figure size 432x288 with 1 Axes>"
      ]
     },
     "metadata": {
      "needs_background": "light"
     },
     "output_type": "display_data"
    }
   ],
   "source": [
    "sbn.lineplot(x=range(len(loss)),y=loss)"
   ]
  },
  {
   "cell_type": "code",
   "execution_count": 14,
   "metadata": {
    "colab": {
     "base_uri": "https://localhost:8080/",
     "height": 34
    },
    "executionInfo": {
     "elapsed": 1559,
     "status": "ok",
     "timestamp": 1600886850188,
     "user": {
      "displayName": "Ali",
      "photoUrl": "",
      "userId": "07288539986452754270"
     },
     "user_tz": -180
    },
    "id": "Cce4g_1TJdGe",
    "outputId": "b8febb7f-a634-4fe7-fe71-3495e524a420"
   },
   "outputs": [
    {
     "data": {
      "text/plain": [
       "74.35836791992188"
      ]
     },
     "execution_count": 14,
     "metadata": {},
     "output_type": "execute_result"
    }
   ],
   "source": [
    "model.evaluate(x_train,y_train,verbose=0)"
   ]
  },
  {
   "cell_type": "code",
   "execution_count": 15,
   "metadata": {
    "id": "-EaZ2f11T-nf"
   },
   "outputs": [],
   "source": [
    "trainLoss=model.evaluate(x_train,y_train,verbose=0)\n",
    "testLoss=model.evaluate(x_test,y_test,verbose=0)"
   ]
  },
  {
   "cell_type": "code",
   "execution_count": 16,
   "metadata": {
    "colab": {
     "base_uri": "https://localhost:8080/",
     "height": 34
    },
    "executionInfo": {
     "elapsed": 1441,
     "status": "ok",
     "timestamp": 1600886857124,
     "user": {
      "displayName": "Ali",
      "photoUrl": "",
      "userId": "07288539986452754270"
     },
     "user_tz": -180
    },
    "id": "ZB0fXgKhUS7E",
    "outputId": "1e7a9477-324a-40eb-faa5-b8a55faf90ff"
   },
   "outputs": [
    {
     "data": {
      "text/plain": [
       "74.35836791992188"
      ]
     },
     "execution_count": 16,
     "metadata": {},
     "output_type": "execute_result"
    }
   ],
   "source": [
    "trainLoss"
   ]
  },
  {
   "cell_type": "code",
   "execution_count": 17,
   "metadata": {
    "colab": {
     "base_uri": "https://localhost:8080/",
     "height": 34
    },
    "executionInfo": {
     "elapsed": 2169,
     "status": "ok",
     "timestamp": 1600886862059,
     "user": {
      "displayName": "Ali",
      "photoUrl": "",
      "userId": "07288539986452754270"
     },
     "user_tz": -180
    },
    "id": "3gwyWiO5UXqk",
    "outputId": "913c9eaa-acbc-43dd-e96a-e51fc2b38193"
   },
   "outputs": [
    {
     "data": {
      "text/plain": [
       "73.80792236328125"
      ]
     },
     "execution_count": 17,
     "metadata": {},
     "output_type": "execute_result"
    }
   ],
   "source": [
    "testLoss"
   ]
  },
  {
   "cell_type": "code",
   "execution_count": 18,
   "metadata": {
    "id": "vaDV6fUJUZ5E"
   },
   "outputs": [],
   "source": [
    "testTahmin=model.predict(x_test)"
   ]
  },
  {
   "cell_type": "code",
   "execution_count": 19,
   "metadata": {
    "id": "SCS8MvR8Vaf8"
   },
   "outputs": [],
   "source": [
    "dataFrame=pd.DataFrame(y_test,columns=[\"gercek deger\"])"
   ]
  },
  {
   "cell_type": "code",
   "execution_count": 20,
   "metadata": {
    "id": "3ORivGfrVbXc"
   },
   "outputs": [],
   "source": [
    "dataFrame[\"tahmin edilen deger\"]=testTahmin"
   ]
  },
  {
   "cell_type": "code",
   "execution_count": 21,
   "metadata": {
    "colab": {
     "base_uri": "https://localhost:8080/",
     "height": 419
    },
    "executionInfo": {
     "elapsed": 3513,
     "status": "ok",
     "timestamp": 1600886899552,
     "user": {
      "displayName": "Ali",
      "photoUrl": "",
      "userId": "07288539986452754270"
     },
     "user_tz": -180
    },
    "id": "UWQScxylWLN8",
    "outputId": "69d5740c-bc17-4539-82a2-38bdba0b1575"
   },
   "outputs": [
    {
     "data": {
      "text/html": [
       "<div>\n",
       "<style scoped>\n",
       "    .dataframe tbody tr th:only-of-type {\n",
       "        vertical-align: middle;\n",
       "    }\n",
       "\n",
       "    .dataframe tbody tr th {\n",
       "        vertical-align: top;\n",
       "    }\n",
       "\n",
       "    .dataframe thead th {\n",
       "        text-align: right;\n",
       "    }\n",
       "</style>\n",
       "<table border=\"1\" class=\"dataframe\">\n",
       "  <thead>\n",
       "    <tr style=\"text-align: right;\">\n",
       "      <th></th>\n",
       "      <th>gercek deger</th>\n",
       "      <th>tahmin edilen deger</th>\n",
       "    </tr>\n",
       "  </thead>\n",
       "  <tbody>\n",
       "    <tr>\n",
       "      <th>0</th>\n",
       "      <td>1081.652164</td>\n",
       "      <td>1078.623169</td>\n",
       "    </tr>\n",
       "    <tr>\n",
       "      <th>1</th>\n",
       "      <td>622.675990</td>\n",
       "      <td>624.993774</td>\n",
       "    </tr>\n",
       "    <tr>\n",
       "      <th>2</th>\n",
       "      <td>889.356810</td>\n",
       "      <td>877.047607</td>\n",
       "    </tr>\n",
       "    <tr>\n",
       "      <th>3</th>\n",
       "      <td>902.826733</td>\n",
       "      <td>895.464294</td>\n",
       "    </tr>\n",
       "    <tr>\n",
       "      <th>4</th>\n",
       "      <td>897.662404</td>\n",
       "      <td>900.772949</td>\n",
       "    </tr>\n",
       "    <tr>\n",
       "      <th>...</th>\n",
       "      <td>...</td>\n",
       "      <td>...</td>\n",
       "    </tr>\n",
       "    <tr>\n",
       "      <th>325</th>\n",
       "      <td>1028.438035</td>\n",
       "      <td>1014.380310</td>\n",
       "    </tr>\n",
       "    <tr>\n",
       "      <th>326</th>\n",
       "      <td>789.934950</td>\n",
       "      <td>792.074463</td>\n",
       "    </tr>\n",
       "    <tr>\n",
       "      <th>327</th>\n",
       "      <td>758.490486</td>\n",
       "      <td>766.956970</td>\n",
       "    </tr>\n",
       "    <tr>\n",
       "      <th>328</th>\n",
       "      <td>1172.871659</td>\n",
       "      <td>1168.260010</td>\n",
       "    </tr>\n",
       "    <tr>\n",
       "      <th>329</th>\n",
       "      <td>820.947936</td>\n",
       "      <td>804.099915</td>\n",
       "    </tr>\n",
       "  </tbody>\n",
       "</table>\n",
       "<p>330 rows × 2 columns</p>\n",
       "</div>"
      ],
      "text/plain": [
       "     gercek deger  tahmin edilen deger\n",
       "0     1081.652164          1078.623169\n",
       "1      622.675990           624.993774\n",
       "2      889.356810           877.047607\n",
       "3      902.826733           895.464294\n",
       "4      897.662404           900.772949\n",
       "..            ...                  ...\n",
       "325   1028.438035          1014.380310\n",
       "326    789.934950           792.074463\n",
       "327    758.490486           766.956970\n",
       "328   1172.871659          1168.260010\n",
       "329    820.947936           804.099915\n",
       "\n",
       "[330 rows x 2 columns]"
      ]
     },
     "execution_count": 21,
     "metadata": {},
     "output_type": "execute_result"
    }
   ],
   "source": [
    "dataFrame"
   ]
  },
  {
   "cell_type": "code",
   "execution_count": 22,
   "metadata": {
    "colab": {
     "base_uri": "https://localhost:8080/",
     "height": 419
    },
    "executionInfo": {
     "elapsed": 1623,
     "status": "ok",
     "timestamp": 1600886907403,
     "user": {
      "displayName": "Ali",
      "photoUrl": "",
      "userId": "07288539986452754270"
     },
     "user_tz": -180
    },
    "id": "KEmsFbFKWQhz",
    "outputId": "0d87aff6-e72c-457f-a79b-1ee707427ad3"
   },
   "outputs": [
    {
     "data": {
      "text/html": [
       "<div>\n",
       "<style scoped>\n",
       "    .dataframe tbody tr th:only-of-type {\n",
       "        vertical-align: middle;\n",
       "    }\n",
       "\n",
       "    .dataframe tbody tr th {\n",
       "        vertical-align: top;\n",
       "    }\n",
       "\n",
       "    .dataframe thead th {\n",
       "        text-align: right;\n",
       "    }\n",
       "</style>\n",
       "<table border=\"1\" class=\"dataframe\">\n",
       "  <thead>\n",
       "    <tr style=\"text-align: right;\">\n",
       "      <th></th>\n",
       "      <th>gercek deger</th>\n",
       "      <th>tahmin edilen deger</th>\n",
       "    </tr>\n",
       "  </thead>\n",
       "  <tbody>\n",
       "    <tr>\n",
       "      <th>0</th>\n",
       "      <td>1081.652164</td>\n",
       "      <td>1078.623169</td>\n",
       "    </tr>\n",
       "    <tr>\n",
       "      <th>1</th>\n",
       "      <td>622.675990</td>\n",
       "      <td>624.993774</td>\n",
       "    </tr>\n",
       "    <tr>\n",
       "      <th>2</th>\n",
       "      <td>889.356810</td>\n",
       "      <td>877.047607</td>\n",
       "    </tr>\n",
       "    <tr>\n",
       "      <th>3</th>\n",
       "      <td>902.826733</td>\n",
       "      <td>895.464294</td>\n",
       "    </tr>\n",
       "    <tr>\n",
       "      <th>4</th>\n",
       "      <td>897.662404</td>\n",
       "      <td>900.772949</td>\n",
       "    </tr>\n",
       "    <tr>\n",
       "      <th>...</th>\n",
       "      <td>...</td>\n",
       "      <td>...</td>\n",
       "    </tr>\n",
       "    <tr>\n",
       "      <th>325</th>\n",
       "      <td>1028.438035</td>\n",
       "      <td>1014.380310</td>\n",
       "    </tr>\n",
       "    <tr>\n",
       "      <th>326</th>\n",
       "      <td>789.934950</td>\n",
       "      <td>792.074463</td>\n",
       "    </tr>\n",
       "    <tr>\n",
       "      <th>327</th>\n",
       "      <td>758.490486</td>\n",
       "      <td>766.956970</td>\n",
       "    </tr>\n",
       "    <tr>\n",
       "      <th>328</th>\n",
       "      <td>1172.871659</td>\n",
       "      <td>1168.260010</td>\n",
       "    </tr>\n",
       "    <tr>\n",
       "      <th>329</th>\n",
       "      <td>820.947936</td>\n",
       "      <td>804.099915</td>\n",
       "    </tr>\n",
       "  </tbody>\n",
       "</table>\n",
       "<p>330 rows × 2 columns</p>\n",
       "</div>"
      ],
      "text/plain": [
       "     gercek deger  tahmin edilen deger\n",
       "0     1081.652164          1078.623169\n",
       "1      622.675990           624.993774\n",
       "2      889.356810           877.047607\n",
       "3      902.826733           895.464294\n",
       "4      897.662404           900.772949\n",
       "..            ...                  ...\n",
       "325   1028.438035          1014.380310\n",
       "326    789.934950           792.074463\n",
       "327    758.490486           766.956970\n",
       "328   1172.871659          1168.260010\n",
       "329    820.947936           804.099915\n",
       "\n",
       "[330 rows x 2 columns]"
      ]
     },
     "execution_count": 22,
     "metadata": {},
     "output_type": "execute_result"
    }
   ],
   "source": [
    "dataFrame"
   ]
  },
  {
   "cell_type": "code",
   "execution_count": 23,
   "metadata": {
    "colab": {
     "base_uri": "https://localhost:8080/",
     "height": 296
    },
    "executionInfo": {
     "elapsed": 2693,
     "status": "ok",
     "timestamp": 1600886990011,
     "user": {
      "displayName": "Ali",
      "photoUrl": "",
      "userId": "07288539986452754270"
     },
     "user_tz": -180
    },
    "id": "uNptsya7RQX2",
    "outputId": "43b9dd6f-e8a2-40fa-f522-259afe50e712"
   },
   "outputs": [
    {
     "data": {
      "text/plain": [
       "<matplotlib.axes._subplots.AxesSubplot at 0x1e5175aedf0>"
      ]
     },
     "execution_count": 23,
     "metadata": {},
     "output_type": "execute_result"
    },
    {
     "data": {
      "image/png": "[encoded data removed]",
      "text/plain": [
       "<Figure size 432x288 with 1 Axes>"
      ]
     },
     "metadata": {
      "needs_background": "light"
     },
     "output_type": "display_data"
    }
   ],
   "source": [
    "sbn.scatterplot(x=\"gercek deger\",y=\"tahmin edilen deger\",data=dataFrame)"
   ]
  },
  {
   "cell_type": "code",
   "execution_count": 24,
   "metadata": {
    "id": "P_Lcu6zDTNhT"
   },
   "outputs": [],
   "source": [
    "from sklearn.metrics import mean_absolute_error,mean_squared_error"
   ]
  },
  {
   "cell_type": "code",
   "execution_count": 25,
   "metadata": {
    "colab": {
     "base_uri": "https://localhost:8080/",
     "height": 34
    },
    "executionInfo": {
     "elapsed": 2152,
     "status": "ok",
     "timestamp": 1600887232903,
     "user": {
      "displayName": "Ali",
      "photoUrl": "",
      "userId": "07288539986452754270"
     },
     "user_tz": -180
    },
    "id": "mANR53tPT0nB",
    "outputId": "2789bc93-4254-4720-87ef-32a0dd5db9ad"
   },
   "outputs": [
    {
     "data": {
      "text/plain": [
       "6.871675460965907"
      ]
     },
     "execution_count": 25,
     "metadata": {},
     "output_type": "execute_result"
    }
   ],
   "source": [
    "mean_absolute_error(dataFrame[\"gercek deger\"],dataFrame[\"tahmin edilen deger\"])"
   ]
  },
  {
   "cell_type": "code",
   "execution_count": 26,
   "metadata": {
    "colab": {
     "base_uri": "https://localhost:8080/",
     "height": 34
    },
    "executionInfo": {
     "elapsed": 780,
     "status": "ok",
     "timestamp": 1600887256701,
     "user": {
      "displayName": "Ali",
      "photoUrl": "",
      "userId": "07288539986452754270"
     },
     "user_tz": -180
    },
    "id": "T9NSBjJEUJDQ",
    "outputId": "f65f4f4d-a4e8-4b9e-c17f-bf2c458f8842"
   },
   "outputs": [
    {
     "data": {
      "text/plain": [
       "73.80791219434825"
      ]
     },
     "execution_count": 26,
     "metadata": {},
     "output_type": "execute_result"
    }
   ],
   "source": [
    "mean_squared_error(dataFrame[\"gercek deger\"],dataFrame[\"tahmin edilen deger\"])"
   ]
  },
  {
   "cell_type": "code",
   "execution_count": 27,
   "metadata": {
    "colab": {
     "base_uri": "https://localhost:8080/",
     "height": 297
    },
    "executionInfo": {
     "elapsed": 816,
     "status": "ok",
     "timestamp": 1600887354395,
     "user": {
      "displayName": "Ali",
      "photoUrl": "",
      "userId": "07288539986452754270"
     },
     "user_tz": -180
    },
    "id": "CUMVNJpZUPMx",
    "outputId": "914303b5-fc85-46a5-b3ed-c5c2ea25f9b5"
   },
   "outputs": [
    {
     "data": {
      "text/html": [
       "<div>\n",
       "<style scoped>\n",
       "    .dataframe tbody tr th:only-of-type {\n",
       "        vertical-align: middle;\n",
       "    }\n",
       "\n",
       "    .dataframe tbody tr th {\n",
       "        vertical-align: top;\n",
       "    }\n",
       "\n",
       "    .dataframe thead th {\n",
       "        text-align: right;\n",
       "    }\n",
       "</style>\n",
       "<table border=\"1\" class=\"dataframe\">\n",
       "  <thead>\n",
       "    <tr style=\"text-align: right;\">\n",
       "      <th></th>\n",
       "      <th>Fiyat</th>\n",
       "      <th>BisikletOzellik1</th>\n",
       "      <th>BisikletOzellik2</th>\n",
       "    </tr>\n",
       "  </thead>\n",
       "  <tbody>\n",
       "    <tr>\n",
       "      <th>count</th>\n",
       "      <td>1000.000000</td>\n",
       "      <td>1000.000000</td>\n",
       "      <td>1000.000000</td>\n",
       "    </tr>\n",
       "    <tr>\n",
       "      <th>mean</th>\n",
       "      <td>872.677801</td>\n",
       "      <td>1750.024800</td>\n",
       "      <td>1749.964733</td>\n",
       "    </tr>\n",
       "    <tr>\n",
       "      <th>std</th>\n",
       "      <td>164.124504</td>\n",
       "      <td>1.704531</td>\n",
       "      <td>1.659578</td>\n",
       "    </tr>\n",
       "    <tr>\n",
       "      <th>min</th>\n",
       "      <td>390.856887</td>\n",
       "      <td>1744.852108</td>\n",
       "      <td>1744.742389</td>\n",
       "    </tr>\n",
       "    <tr>\n",
       "      <th>25%</th>\n",
       "      <td>757.795031</td>\n",
       "      <td>1748.831119</td>\n",
       "      <td>1748.803186</td>\n",
       "    </tr>\n",
       "    <tr>\n",
       "      <th>50%</th>\n",
       "      <td>879.168705</td>\n",
       "      <td>1750.017350</td>\n",
       "      <td>1750.003926</td>\n",
       "    </tr>\n",
       "    <tr>\n",
       "      <th>75%</th>\n",
       "      <td>988.612778</td>\n",
       "      <td>1751.115766</td>\n",
       "      <td>1751.129414</td>\n",
       "    </tr>\n",
       "    <tr>\n",
       "      <th>max</th>\n",
       "      <td>1355.213745</td>\n",
       "      <td>1755.613884</td>\n",
       "      <td>1754.666038</td>\n",
       "    </tr>\n",
       "  </tbody>\n",
       "</table>\n",
       "</div>"
      ],
      "text/plain": [
       "             Fiyat  BisikletOzellik1  BisikletOzellik2\n",
       "count  1000.000000       1000.000000       1000.000000\n",
       "mean    872.677801       1750.024800       1749.964733\n",
       "std     164.124504          1.704531          1.659578\n",
       "min     390.856887       1744.852108       1744.742389\n",
       "25%     757.795031       1748.831119       1748.803186\n",
       "50%     879.168705       1750.017350       1750.003926\n",
       "75%     988.612778       1751.115766       1751.129414\n",
       "max    1355.213745       1755.613884       1754.666038"
      ]
     },
     "execution_count": 27,
     "metadata": {},
     "output_type": "execute_result"
    }
   ],
   "source": [
    "data.describe()"
   ]
  },
  {
   "cell_type": "code",
   "execution_count": 28,
   "metadata": {
    "id": "T-6XlT59UnCY"
   },
   "outputs": [],
   "source": [
    "yeniBisikletOzellikleri=[[1750,1750]]"
   ]
  },
  {
   "cell_type": "code",
   "execution_count": 29,
   "metadata": {
    "id": "HqmC3o2QVmqH"
   },
   "outputs": [],
   "source": [
    "yeniBisikletOzellikleri=scaler.transform(yeniBisikletOzellikleri)"
   ]
  },
  {
   "cell_type": "code",
   "execution_count": 30,
   "metadata": {
    "colab": {
     "base_uri": "https://localhost:8080/",
     "height": 34
    },
    "executionInfo": {
     "elapsed": 809,
     "status": "ok",
     "timestamp": 1600887803192,
     "user": {
      "displayName": "Ali",
      "photoUrl": "",
      "userId": "07288539986452754270"
     },
     "user_tz": -180
    },
    "id": "Ox6FNdGyV0KA",
    "outputId": "864eb427-3945-4333-9a9c-cd51c8aee593"
   },
   "outputs": [
    {
     "data": {
      "text/plain": [
       "array([[875.31714]], dtype=float32)"
      ]
     },
     "execution_count": 30,
     "metadata": {},
     "output_type": "execute_result"
    }
   ],
   "source": [
    "model.predict(yeniBisikletOzellikleri)"
   ]
  },
  {
   "cell_type": "code",
   "execution_count": 31,
   "metadata": {
    "id": "44AMyLnGV7GI"
   },
   "outputs": [],
   "source": [
    "from tensorflow.keras.models import load_model"
   ]
  },
  {
   "cell_type": "code",
   "execution_count": 32,
   "metadata": {
    "id": "F4dhx2BMWxco"
   },
   "outputs": [],
   "source": [
    "model.save(\"bisiklet_modeli.h5\")"
   ]
  },
  {
   "cell_type": "code",
   "execution_count": 33,
   "metadata": {
    "id": "FF-yILARW-fw"
   },
   "outputs": [],
   "source": [
    "sonradanCagrilanModel=load_model(\"bisiklet_modeli.h5\")"
   ]
  },
  {
   "cell_type": "code",
   "execution_count": 34,
   "metadata": {
    "colab": {
     "base_uri": "https://localhost:8080/",
     "height": 34
    },
    "executionInfo": {
     "elapsed": 787,
     "status": "ok",
     "timestamp": 1600888066923,
     "user": {
      "displayName": "Ali",
      "photoUrl": "",
      "userId": "07288539986452754270"
     },
     "user_tz": -180
    },
    "id": "eieLPR9-XPDR",
    "outputId": "3d890a81-dd0c-44c0-afbe-4c74d3dfcf69"
   },
   "outputs": [
    {
     "data": {
      "text/plain": [
       "array([[875.31714]], dtype=float32)"
      ]
     },
     "execution_count": 34,
     "metadata": {},
     "output_type": "execute_result"
    }
   ],
   "source": [
    "sonradanCagrilanModel.predict(yeniBisikletOzellikleri)"
   ]
  },
  {
   "cell_type": "code",
   "execution_count": null,
   "metadata": {
    "id": "29K1L6UAXU_-"
   },
   "outputs": [],
   "source": []
  }
 ],
 "metadata": {
  "colab": {
   "authorship_tag": "ABX9TyObQG6jZqJtlznzMOCsPMuN",
   "collapsed_sections": [],
   "name": "32-tnsrflwbisiklet.ipynb",
   "provenance": []
  },
  "kernelspec": {
   "display_name": "Python 3",
   "language": "python",
   "name": "python3"
  },
  "language_info": {
   "codemirror_mode": {
    "name": "ipython",
    "version": 3
   },
   "file_extension": ".py",
   "mimetype": "text/x-python",
   "name": "python",
   "nbconvert_exporter": "python",
   "pygments_lexer": "ipython3",
   "version": "3.8.3"
  }
 },
 "nbformat": 4,
 "nbformat_minor": 1
}
