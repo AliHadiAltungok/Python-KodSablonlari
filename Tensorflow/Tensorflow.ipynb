{
 "cells": [
  {
   "cell_type": "code",
   "execution_count": 2,
   "metadata": {
    "executionInfo": {
     "elapsed": 3965,
     "status": "ok",
     "timestamp": 1607593191603,
     "user": {
      "displayName": "Ali",
      "photoUrl": "",
      "userId": "07288539986452754270"
     },
     "user_tz": -180
    },
    "id": "sYlasyvXBgYl"
   },
   "outputs": [],
   "source": [
    "import pandas as pd\n",
    "import numpy as np\n",
    "import matplotlib.pyplot as plt\n",
    "from sklearn.model_selection import train_test_split\n",
    "from sklearn.preprocessing import MinMaxScaler\n",
    "import tensorflow as tf\n",
    "from tensorflow.keras.models import Sequential\n",
    "from tensorflow.keras.layers import Dense"
   ]
  },
  {
   "cell_type": "code",
   "execution_count": 3,
   "metadata": {
    "colab": {
     "base_uri": "https://localhost:8080/",
     "height": 323
    },
    "executionInfo": {
     "elapsed": 2247,
     "status": "error",
     "timestamp": 1607593194547,
     "user": {
      "displayName": "Ali",
      "photoUrl": "",
      "userId": "07288539986452754270"
     },
     "user_tz": -180
    },
    "id": "ZAsreYbVCq6k",
    "outputId": "66d7f536-376a-435b-f7c3-79021ba14e9d"
   },
   "outputs": [],
   "source": [
    "data=pd.read_excel(\"bisiklet_fiyatlari.xlsx\")"
   ]
  },
  {
   "cell_type": "code",
   "execution_count": null,
   "metadata": {
    "id": "Q6PGuy93BJUy"
   },
   "outputs": [],
   "source": []
  },
  {
   "cell_type": "code",
   "execution_count": 4,
   "metadata": {
    "id": "86awDJwIDQSq"
   },
   "outputs": [],
   "source": [
    "x=data[[\"BisikletOzellik1\",\"BisikletOzellik2\"]].values"
   ]
  },
  {
   "cell_type": "code",
   "execution_count": 5,
   "metadata": {
    "id": "ubLWCNiHDQ-y"
   },
   "outputs": [],
   "source": [
    "y=data[\"Fiyat\"].values"
   ]
  },
  {
   "cell_type": "code",
   "execution_count": 6,
   "metadata": {
    "id": "xEqNgGLLDcFC"
   },
   "outputs": [],
   "source": [
    "x_train,x_test,y_train,y_test=train_test_split(x,y,test_size=0.33,random_state=15)"
   ]
  },
  {
   "cell_type": "code",
   "execution_count": 7,
   "metadata": {
    "colab": {
     "base_uri": "https://localhost:8080/",
     "height": 34
    },
    "executionInfo": {
     "elapsed": 699,
     "status": "ok",
     "timestamp": 1600886772214,
     "user": {
      "displayName": "Ali",
      "photoUrl": "",
      "userId": "07288539986452754270"
     },
     "user_tz": -180
    },
    "id": "U4PV7zoDDcsi",
    "outputId": "8ed1cc21-700f-499c-f223-430fcff9eadf"
   },
   "outputs": [
    {
     "data": {
      "text/plain": [
       "MinMaxScaler()"
      ]
     },
     "execution_count": 7,
     "metadata": {},
     "output_type": "execute_result"
    }
   ],
   "source": [
    "scaler=MinMaxScaler()\n",
    "scaler.fit(x_train)"
   ]
  },
  {
   "cell_type": "code",
   "execution_count": 8,
   "metadata": {
    "id": "EZMzvsY2DeAy"
   },
   "outputs": [],
   "source": [
    "x_train=scaler.transform(x_train)\n",
    "x_test=scaler.transform(x_test)"
   ]
  },
  {
   "cell_type": "code",
   "execution_count": 9,
   "metadata": {
    "id": "kPqeM3Q4DuKq"
   },
   "outputs": [],
   "source": [
    "model=Sequential()\n",
    "\n",
    "model.add(Dense(4,activation=\"relu\"))\n",
    "model.add(Dense(4,activation=\"relu\"))\n",
    "model.add(Dense(4,activation=\"relu\"))\n",
    "\n",
    "model.add(Dense(1))\n",
    "\n",
    "model.compile(optimizer=\"rmsprop\",loss=\"mse\")"
   ]
  },
  {
   "cell_type": "code",
   "execution_count": null,
   "metadata": {
    "colab": {
     "base_uri": "https://localhost:8080/",
     "height": 1000
    },
    "executionInfo": {
     "elapsed": 8951,
     "status": "ok",
     "timestamp": 1600886830084,
     "user": {
      "displayName": "Ali",
      "photoUrl": "",
      "userId": "07288539986452754270"
     },
     "user_tz": -180
    },
    "id": "xXoHRnrXDwmy",
    "outputId": "a9f85c37-cd36-4fee-9fb0-ddf40cd7d7cc"
   },
   "outputs": [
    {
     "name": "stdout",
     "output_type": "stream",
     "text": [
      "Epoch 1/250\n",
      "21/21 [==============================] - 0s 1ms/step - loss: 795905.6250\n",
      "Epoch 2/250\n",
      "21/21 [==============================] - 0s 2ms/step - loss: 795736.0000\n",
      "Epoch 3/250\n",
      "21/21 [==============================] - 0s 2ms/step - loss: 795606.0000\n",
      "Epoch 4/250\n",
      "21/21 [==============================] - 0s 2ms/step - loss: 795461.9375\n",
      "Epoch 5/250\n",
      "21/21 [==============================] - 0s 2ms/step - loss: 795300.5000\n",
      "Epoch 6/250\n",
      "21/21 [==============================] - 0s 2ms/step - loss: 795117.6875\n",
      "Epoch 7/250\n",
      "21/21 [==============================] - 0s 1ms/step - loss: 794907.5625\n",
      "Epoch 8/250\n",
      "21/21 [==============================] - 0s 1ms/step - loss: 794666.1250\n",
      "Epoch 9/250\n",
      "21/21 [==============================] - 0s 2ms/step - loss: 794394.3125\n",
      "Epoch 10/250\n",
      "21/21 [==============================] - 0s 2ms/step - loss: 794088.6250\n",
      "Epoch 11/250\n",
      "21/21 [==============================] - 0s 2ms/step - loss: 793747.5625\n",
      "Epoch 12/250\n",
      "21/21 [==============================] - 0s 1ms/step - loss: 793368.6875\n",
      "Epoch 13/250\n",
      "21/21 [==============================] - 0s 1ms/step - loss: 792952.8125\n",
      "Epoch 14/250\n",
      "21/21 [==============================] - 0s 1ms/step - loss: 792492.0625\n",
      "Epoch 15/250\n",
      "21/21 [==============================] - 0s 1ms/step - loss: 791987.6875\n",
      "Epoch 16/250\n",
      "21/21 [==============================] - 0s 1ms/step - loss: 791425.0625\n",
      "Epoch 17/250\n",
      "21/21 [==============================] - 0s 1ms/step - loss: 790795.3125\n",
      "Epoch 18/250\n",
      " 1/21 [>.............................] - ETA: 0s - loss: 828679.2500"
     ]
    }
   ],
   "source": [
    "model.fit(x_train,y_train,epochs=250)"
   ]
  },
  {
   "cell_type": "code",
   "execution_count": null,
   "metadata": {
    "colab": {
     "base_uri": "https://localhost:8080/",
     "height": 34
    },
    "executionInfo": {
     "elapsed": 1319,
     "status": "ok",
     "timestamp": 1600886840068,
     "user": {
      "displayName": "Ali",
      "photoUrl": "",
      "userId": "07288539986452754270"
     },
     "user_tz": -180
    },
    "id": "doEUSpC1D0zS",
    "outputId": "b5f36aa3-84cc-45a2-f9c6-6cab8ed0e7cd"
   },
   "outputs": [],
   "source": [
    "model.history.history.keys()##dictionary çeviriyo"
   ]
  },
  {
   "cell_type": "code",
   "execution_count": null,
   "metadata": {
    "id": "iXjnrvZRJTYZ"
   },
   "outputs": [],
   "source": [
    "loss=model.history.history[\"loss\"]"
   ]
  },
  {
   "cell_type": "code",
   "execution_count": null,
   "metadata": {
    "id": "WnoYmqFwIwjh"
   },
   "outputs": [],
   "source": [
    "import seaborn as sbn"
   ]
  },
  {
   "cell_type": "code",
   "execution_count": null,
   "metadata": {
    "colab": {
     "base_uri": "https://localhost:8080/",
     "height": 282
    },
    "executionInfo": {
     "elapsed": 863,
     "status": "ok",
     "timestamp": 1600886847172,
     "user": {
      "displayName": "Ali",
      "photoUrl": "",
      "userId": "07288539986452754270"
     },
     "user_tz": -180
    },
    "id": "VRT5ZS1WJFDP",
    "outputId": "f274e7af-3c41-4874-a3ec-0b274f4ea101"
   },
   "outputs": [],
   "source": [
    "sbn.lineplot(x=range(len(loss)),y=loss)"
   ]
  },
  {
   "cell_type": "code",
   "execution_count": null,
   "metadata": {
    "colab": {
     "base_uri": "https://localhost:8080/",
     "height": 34
    },
    "executionInfo": {
     "elapsed": 1559,
     "status": "ok",
     "timestamp": 1600886850188,
     "user": {
      "displayName": "Ali",
      "photoUrl": "",
      "userId": "07288539986452754270"
     },
     "user_tz": -180
    },
    "id": "Cce4g_1TJdGe",
    "outputId": "b8febb7f-a634-4fe7-fe71-3495e524a420"
   },
   "outputs": [],
   "source": [
    "model.evaluate(x_train,y_train,verbose=0)"
   ]
  },
  {
   "cell_type": "code",
   "execution_count": null,
   "metadata": {
    "id": "-EaZ2f11T-nf"
   },
   "outputs": [],
   "source": [
    "trainLoss=model.evaluate(x_train,y_train,verbose=0)\n",
    "testLoss=model.evaluate(x_test,y_test,verbose=0)"
   ]
  },
  {
   "cell_type": "code",
   "execution_count": null,
   "metadata": {
    "colab": {
     "base_uri": "https://localhost:8080/",
     "height": 34
    },
    "executionInfo": {
     "elapsed": 1441,
     "status": "ok",
     "timestamp": 1600886857124,
     "user": {
      "displayName": "Ali",
      "photoUrl": "",
      "userId": "07288539986452754270"
     },
     "user_tz": -180
    },
    "id": "ZB0fXgKhUS7E",
    "outputId": "1e7a9477-324a-40eb-faa5-b8a55faf90ff"
   },
   "outputs": [],
   "source": [
    "trainLoss"
   ]
  },
  {
   "cell_type": "code",
   "execution_count": null,
   "metadata": {
    "colab": {
     "base_uri": "https://localhost:8080/",
     "height": 34
    },
    "executionInfo": {
     "elapsed": 2169,
     "status": "ok",
     "timestamp": 1600886862059,
     "user": {
      "displayName": "Ali",
      "photoUrl": "",
      "userId": "07288539986452754270"
     },
     "user_tz": -180
    },
    "id": "3gwyWiO5UXqk",
    "outputId": "913c9eaa-acbc-43dd-e96a-e51fc2b38193"
   },
   "outputs": [],
   "source": [
    "testLoss"
   ]
  },
  {
   "cell_type": "code",
   "execution_count": null,
   "metadata": {
    "id": "vaDV6fUJUZ5E"
   },
   "outputs": [],
   "source": [
    "testTahmin=model.predict(x_test)"
   ]
  },
  {
   "cell_type": "code",
   "execution_count": null,
   "metadata": {
    "id": "SCS8MvR8Vaf8"
   },
   "outputs": [],
   "source": [
    "dataFrame=pd.DataFrame(y_test,columns=[\"gercek deger\"])"
   ]
  },
  {
   "cell_type": "code",
   "execution_count": null,
   "metadata": {
    "id": "3ORivGfrVbXc"
   },
   "outputs": [],
   "source": [
    "dataFrame[\"tahmin edilen deger\"]=testTahmin"
   ]
  },
  {
   "cell_type": "code",
   "execution_count": null,
   "metadata": {
    "colab": {
     "base_uri": "https://localhost:8080/",
     "height": 419
    },
    "executionInfo": {
     "elapsed": 3513,
     "status": "ok",
     "timestamp": 1600886899552,
     "user": {
      "displayName": "Ali",
      "photoUrl": "",
      "userId": "07288539986452754270"
     },
     "user_tz": -180
    },
    "id": "UWQScxylWLN8",
    "outputId": "69d5740c-bc17-4539-82a2-38bdba0b1575"
   },
   "outputs": [],
   "source": [
    "dataFrame"
   ]
  },
  {
   "cell_type": "code",
   "execution_count": null,
   "metadata": {
    "colab": {
     "base_uri": "https://localhost:8080/",
     "height": 419
    },
    "executionInfo": {
     "elapsed": 1623,
     "status": "ok",
     "timestamp": 1600886907403,
     "user": {
      "displayName": "Ali",
      "photoUrl": "",
      "userId": "07288539986452754270"
     },
     "user_tz": -180
    },
    "id": "KEmsFbFKWQhz",
    "outputId": "0d87aff6-e72c-457f-a79b-1ee707427ad3"
   },
   "outputs": [],
   "source": [
    "dataFrame"
   ]
  },
  {
   "cell_type": "code",
   "execution_count": null,
   "metadata": {
    "colab": {
     "base_uri": "https://localhost:8080/",
     "height": 296
    },
    "executionInfo": {
     "elapsed": 2693,
     "status": "ok",
     "timestamp": 1600886990011,
     "user": {
      "displayName": "Ali",
      "photoUrl": "",
      "userId": "07288539986452754270"
     },
     "user_tz": -180
    },
    "id": "uNptsya7RQX2",
    "outputId": "43b9dd6f-e8a2-40fa-f522-259afe50e712"
   },
   "outputs": [],
   "source": [
    "sbn.scatterplot(x=\"gercek deger\",y=\"tahmin edilen deger\",data=dataFrame)"
   ]
  },
  {
   "cell_type": "code",
   "execution_count": null,
   "metadata": {
    "id": "P_Lcu6zDTNhT"
   },
   "outputs": [],
   "source": [
    "from sklearn.metrics import mean_absolute_error,mean_squared_error"
   ]
  },
  {
   "cell_type": "code",
   "execution_count": null,
   "metadata": {
    "colab": {
     "base_uri": "https://localhost:8080/",
     "height": 34
    },
    "executionInfo": {
     "elapsed": 2152,
     "status": "ok",
     "timestamp": 1600887232903,
     "user": {
      "displayName": "Ali",
      "photoUrl": "",
      "userId": "07288539986452754270"
     },
     "user_tz": -180
    },
    "id": "mANR53tPT0nB",
    "outputId": "2789bc93-4254-4720-87ef-32a0dd5db9ad"
   },
   "outputs": [],
   "source": [
    "mean_absolute_error(dataFrame[\"gercek deger\"],dataFrame[\"tahmin edilen deger\"])"
   ]
  },
  {
   "cell_type": "code",
   "execution_count": null,
   "metadata": {
    "colab": {
     "base_uri": "https://localhost:8080/",
     "height": 34
    },
    "executionInfo": {
     "elapsed": 780,
     "status": "ok",
     "timestamp": 1600887256701,
     "user": {
      "displayName": "Ali",
      "photoUrl": "",
      "userId": "07288539986452754270"
     },
     "user_tz": -180
    },
    "id": "T9NSBjJEUJDQ",
    "outputId": "f65f4f4d-a4e8-4b9e-c17f-bf2c458f8842"
   },
   "outputs": [],
   "source": [
    "mean_squared_error(dataFrame[\"gercek deger\"],dataFrame[\"tahmin edilen deger\"])"
   ]
  },
  {
   "cell_type": "code",
   "execution_count": null,
   "metadata": {
    "colab": {
     "base_uri": "https://localhost:8080/",
     "height": 297
    },
    "executionInfo": {
     "elapsed": 816,
     "status": "ok",
     "timestamp": 1600887354395,
     "user": {
      "displayName": "Ali",
      "photoUrl": "",
      "userId": "07288539986452754270"
     },
     "user_tz": -180
    },
    "id": "CUMVNJpZUPMx",
    "outputId": "914303b5-fc85-46a5-b3ed-c5c2ea25f9b5"
   },
   "outputs": [],
   "source": [
    "data.describe()"
   ]
  },
  {
   "cell_type": "code",
   "execution_count": null,
   "metadata": {
    "id": "T-6XlT59UnCY"
   },
   "outputs": [],
   "source": [
    "yeniBisikletOzellikleri=[[1750,1750]]"
   ]
  },
  {
   "cell_type": "code",
   "execution_count": null,
   "metadata": {
    "id": "HqmC3o2QVmqH"
   },
   "outputs": [],
   "source": [
    "yeniBisikletOzellikleri=scaler.transform(yeniBisikletOzellikleri)"
   ]
  },
  {
   "cell_type": "code",
   "execution_count": null,
   "metadata": {
    "colab": {
     "base_uri": "https://localhost:8080/",
     "height": 34
    },
    "executionInfo": {
     "elapsed": 809,
     "status": "ok",
     "timestamp": 1600887803192,
     "user": {
      "displayName": "Ali",
      "photoUrl": "",
      "userId": "07288539986452754270"
     },
     "user_tz": -180
    },
    "id": "Ox6FNdGyV0KA",
    "outputId": "864eb427-3945-4333-9a9c-cd51c8aee593"
   },
   "outputs": [],
   "source": [
    "model.predict(yeniBisikletOzellikleri)"
   ]
  },
  {
   "cell_type": "code",
   "execution_count": null,
   "metadata": {
    "id": "44AMyLnGV7GI"
   },
   "outputs": [],
   "source": [
    "from tensorflow.keras.models import load_model"
   ]
  },
  {
   "cell_type": "code",
   "execution_count": null,
   "metadata": {
    "id": "F4dhx2BMWxco"
   },
   "outputs": [],
   "source": [
    "model.save(\"bisiklet_modeli.h5\")"
   ]
  },
  {
   "cell_type": "code",
   "execution_count": null,
   "metadata": {
    "id": "FF-yILARW-fw"
   },
   "outputs": [],
   "source": [
    "sonradanCagrilanModel=load_model(\"bisiklet_modeli.h5\")"
   ]
  },
  {
   "cell_type": "code",
   "execution_count": null,
   "metadata": {
    "colab": {
     "base_uri": "https://localhost:8080/",
     "height": 34
    },
    "executionInfo": {
     "elapsed": 787,
     "status": "ok",
     "timestamp": 1600888066923,
     "user": {
      "displayName": "Ali",
      "photoUrl": "",
      "userId": "07288539986452754270"
     },
     "user_tz": -180
    },
    "id": "eieLPR9-XPDR",
    "outputId": "3d890a81-dd0c-44c0-afbe-4c74d3dfcf69"
   },
   "outputs": [],
   "source": [
    "sonradanCagrilanModel.predict(yeniBisikletOzellikleri)"
   ]
  },
  {
   "cell_type": "code",
   "execution_count": null,
   "metadata": {
    "id": "29K1L6UAXU_-"
   },
   "outputs": [],
   "source": []
  }
 ],
 "metadata": {
  "colab": {
   "authorship_tag": "ABX9TyObQG6jZqJtlznzMOCsPMuN",
   "collapsed_sections": [],
   "name": "32-tnsrflwbisiklet.ipynb",
   "provenance": []
  },
  "kernelspec": {
   "display_name": "Python 3",
   "language": "python",
   "name": "python3"
  },
  "language_info": {
   "codemirror_mode": {
    "name": "ipython",
    "version": 3
   },
   "file_extension": ".py",
   "mimetype": "text/x-python",
   "name": "python",
   "nbconvert_exporter": "python",
   "pygments_lexer": "ipython3",
   "version": "3.8.3"
  }
 },
 "nbformat": 4,
 "nbformat_minor": 1
}
